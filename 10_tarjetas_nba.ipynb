{
 "cells": [
  {
   "cell_type": "code",
   "execution_count": 1,
   "metadata": {},
   "outputs": [],
   "source": [
    "import requests\n",
    "from bs4 import BeautifulSoup\n",
    "import pandas as pd\n",
    "import matplotlib.pyplot as plt\n",
    "import seaborn as sns\n",
    "import numpy as np\n",
    "import folium\n",
    "import requests\n",
    "from pprint import pprint\n",
    "import time\n",
    "import os\n",
    "import plotly.express as px"
   ]
  },
  {
   "cell_type": "code",
   "execution_count": 2,
   "metadata": {},
   "outputs": [],
   "source": [
    "# Lo primero es importar los datos descargados de airtable que tenemos almacenados en un excel para hacer gráficas. \n",
    "ruta_equipos_nba = 'excels/descargados/datos_equipos_nba.xlsx'\n",
    "ruta_jugadores_nba = 'excels/descargados/datos_jugadores_nba.xlsx'\n",
    "\n",
    "df_equipos_nba = pd.read_excel(ruta_equipos_nba)\n",
    "df_jugadores_nba = pd.read_excel(ruta_jugadores_nba)"
   ]
  },
  {
   "cell_type": "code",
   "execution_count": 4,
   "metadata": {},
   "outputs": [],
   "source": [
    "# Vamos a calcular de todos los jugadores respecto a los partidos jugados la media, varianza y quartiles 1 y 3 de todos sus datos\n",
    "\n",
    "# Lo primero vamos a crear un nuevo dataframe que sea copia del original para trabajar en él y tener el original por si\n",
    "# necesitamos incorporar algún dato sin modificar\n",
    "\n",
    "df_estadisticas_jugadores = df_jugadores_nba.copy()\n",
    "# Calculamos la media\n",
    "estadisticas = ['MIN', 'PTS', 'FGM', 'FGA', '3PM', '3PA', 'FTM', 'FTA', 'OREB', 'DREB', 'REB', 'AST', 'STL', 'BLK', 'TOV', 'PF', 'EFF']\n",
    "for stat in estadisticas:\n",
    "    df_estadisticas_jugadores[stat + '_por_GP'] = df_estadisticas_jugadores[stat] / df_estadisticas_jugadores['GP']\n",
    "\n",
    "# Vamos a quitar los datos de los jugadores que no hayan jugado ningún partido para no dividir entre 0\n",
    "df_estadisticas_jugadores = df_estadisticas_jugadores[df_estadisticas_jugadores['GP'] != 0]\n",
    "\n",
    "# Y hacemos lo mismo con la varianza y quartiles\n",
    "varianzas = df_estadisticas_jugadores[estadisticas].var()\n",
    "cuartiles = df_estadisticas_jugadores[estadisticas].quantile([0.25, 0.75])\n"
   ]
  },
  {
   "cell_type": "code",
   "execution_count": 7,
   "metadata": {},
   "outputs": [],
   "source": [
    "# Ahora lo que quiero es asignar puntos a los jugadores de una escala entre 0 para el peor y 10 para el mejor\n",
    "# Pero me he inventado un sistema de puntuación en el que los que están en el q3 estén más valorados y los que\n",
    "# esten en el q1 están menos valorados. Además voy a introducir también la varianza para analizar si la estadística\n",
    "# media de un jugador es significativamente mayor o menos que la varianza media para ese dato. \n",
    "# No es del todo exacto, pero bueno, es una forma de distribuir puntos de 0 a 10 a los jugadores para intentar\n",
    "# encontrar quiene es el mejor mejor y quien es el peor peor y los que están por la media para tener un valor carta FIFA.\n",
    "\n",
    "# Paso 2: Normalizar las estadísticas\n",
    "def normalizar_min_max(df, columnas):\n",
    "    for columna in columnas:\n",
    "        minimo = df[columna].min()\n",
    "        maximo = df[columna].max()\n",
    "        df[columna + '_normalizado'] = 10 * (df[columna] - minimo) / (maximo - minimo)\n",
    "    return df\n",
    "\n",
    "columnas_normalizadas = [stat + '_por_GP' for stat in estadisticas]\n",
    "df_estadisticas_normalizadas = normalizar_min_max(df_estadisticas_jugadores, columnas_normalizadas)\n",
    "\n",
    "# Paso 3: Ajustar puntuaciones según los cuartiles\n",
    "def ajustar_por_cuartiles(df, columnas, q1, q3, incremento_q3, decremento_q1):\n",
    "    for columna in columnas:\n",
    "        df.loc[df[columna] > q3[columna.replace('_normalizado', '')], columna] += incremento_q3\n",
    "        df.loc[df[columna] < q1[columna.replace('_normalizado', '')], columna] -= decremento_q1\n",
    "        df[columna] = df[columna].clip(lower=0, upper=10)\n",
    "    return df\n",
    "\n",
    "cuartiles = df_estadisticas_jugadores[columnas_normalizadas].quantile([0.25, 0.75])\n",
    "incremento_q3 = 1\n",
    "decremento_q1 = 1\n",
    "df_puntuaciones_ajustadas = ajustar_por_cuartiles(df_estadisticas_normalizadas, [col + '_normalizado' for col in columnas_normalizadas], cuartiles.loc[0.25], cuartiles.loc[0.75], incremento_q3, decremento_q1)\n",
    "\n",
    "# Paso 4: Ajustar puntuaciones según la varianza\n",
    "def ajustar_por_varianza(df, columnas, varianzas, umbral_varianza, ajuste_varianza):\n",
    "    varianza_media = varianzas.mean()\n",
    "    for columna in columnas:\n",
    "        varianza_columna = df[columna.replace('_normalizado', '')].var()\n",
    "        if varianza_columna > varianza_media * umbral_varianza:\n",
    "            df[columna] -= ajuste_varianza\n",
    "        elif varianza_columna < varianza_media / umbral_varianza:\n",
    "            df[columna] += ajuste_varianza\n",
    "        df[columna] = df[columna].clip(lower=0, upper=10)\n",
    "    return df\n",
    "\n",
    "umbral_varianza = 1.5\n",
    "ajuste_varianza = 0.5\n",
    "df_puntuaciones_finales = ajustar_por_varianza(df_puntuaciones_ajustadas, [col + '_normalizado' for col in columnas_normalizadas], varianzas, umbral_varianza, ajuste_varianza)"
   ]
  },
  {
   "cell_type": "code",
   "execution_count": 9,
   "metadata": {},
   "outputs": [
    {
     "name": "stdout",
     "output_type": "stream",
     "text": [
      "      Nombre            Apellido  PTS_por_GP_normalizado\n",
      "166     Luka              Doncic               10.000000\n",
      "379     Joel              Embiid               10.000000\n",
      "482     Shai  Gilgeous-Alexander                9.596257\n",
      "418  Giannis       Antetokounmpo                9.580214\n",
      "241    Kevin              Durant                9.057219\n",
      "..       ...                 ...                     ...\n",
      "286     Alex               Fudge                0.500000\n",
      "287     Seth               Lundy                0.500000\n",
      "289    Usman              Garuba                0.500000\n",
      "292  Jamaree              Bouyea                0.500000\n",
      "520     E.J.             Liddell                0.500000\n",
      "\n",
      "[521 rows x 3 columns]\n"
     ]
    }
   ],
   "source": [
    "print(df_puntuaciones_finales[['Nombre', 'Apellido', 'PTS_por_GP_normalizado']].sort_values(by='PTS_por_GP_normalizado', ascending=False))\n"
   ]
  },
  {
   "cell_type": "code",
   "execution_count": 20,
   "metadata": {},
   "outputs": [
    {
     "name": "stdout",
     "output_type": "stream",
     "text": [
      "      Nombre       Apellido  Puntuacion_Total\n",
      "379     Joel         Embiid             83.90\n",
      "166     Luka         Doncic             83.28\n",
      "418  Giannis  Antetokounmpo             78.91\n",
      "27    Jayson          Tatum             74.62\n",
      "218   Nikola          Jokic             74.26\n",
      "..       ...            ...               ...\n",
      "57    Dmytro     Skapintsev              5.00\n",
      "75   Onuralp          Bitim              5.00\n",
      "262      Jay           Huff              5.00\n",
      "399  Malcolm        Cazalon              5.00\n",
      "404  Kendall          Brown              5.00\n",
      "\n",
      "[521 rows x 3 columns]\n"
     ]
    }
   ],
   "source": [
    "# Ahora vamos a calcular la media de puntos que han obtenido y ver cual es el mejor jugador según nuestros cáculos de la NBA\n",
    "\n",
    "columnas_puntuaciones = [stat + '_por_GP_normalizado' for stat in estadisticas]\n",
    "df_puntuaciones_finales['Puntuacion_Total'] = df_puntuaciones_finales[columnas_puntuaciones].mean(axis=1)\n",
    "\n",
    "# Y quiero expresar el resultado en formato tarjeta FIFA que es valoración de 1 a 100\n",
    "df_puntuaciones_finales['Puntuacion_Total'] = (df_puntuaciones_finales['Puntuacion_Total'] * 10).round(2)\n",
    "\n",
    "print(df_puntuaciones_finales[['Nombre', 'Apellido', 'Puntuacion_Total']].sort_values(by='Puntuacion_Total', ascending=False))\n"
   ]
  },
  {
   "cell_type": "code",
   "execution_count": 31,
   "metadata": {},
   "outputs": [
    {
     "name": "stdout",
     "output_type": "stream",
     "text": [
      "      Nombre       Apellido  Puntuacion_Total  Valor_Monetario\n",
      "379     Joel         Embiid             83.90         257.5050\n",
      "166     Luka         Doncic             83.28         255.6760\n",
      "418  Giannis  Antetokounmpo             78.91         242.7845\n",
      "27    Jayson          Tatum             74.62         230.1290\n",
      "218   Nikola          Jokic             74.26         229.0670\n",
      "..       ...            ...               ...              ...\n",
      "236    Chris     Livingston              6.98           5.0000\n",
      "239  Aleksej     Pokusevski              8.30           5.0000\n",
      "451    Jacob         Toppin              6.19           5.0000\n",
      "253   Damian          Jones              8.31           5.0000\n",
      "520     E.J.        Liddell              8.25           5.0000\n",
      "\n",
      "[521 rows x 4 columns]\n"
     ]
    }
   ],
   "source": [
    "# Ahora se me ha ocurrido asignarle valores fictios monetarios en dólares a los jugadores de la NBA\n",
    "# Entonces, siguiendo el mismo modelo que ya empleamos para repartir puntos contemplando los mejores y \n",
    "# peores con los Q3 y Q1, y con la corrección de la varianza asignar valores monetarios con la puntuación\n",
    "# total entre 300 millones de dólares y 5 millones de dólares\n",
    "\n",
    "# Parámetros de valoración\n",
    "valor_maximo = 300  # En millones de dólares\n",
    "valor_minimo = 5    # En millones de dólares\n",
    "puntuacion_maxima = 100\n",
    "\n",
    "# Escalar el valor monetario base según la puntuación\n",
    "def escalar_valor_monetario(puntuacion, valor_minimo, valor_maximo, puntuacion_maxima):\n",
    "    return ((valor_maximo - valor_minimo) / puntuacion_maxima) * puntuacion + valor_minimo\n",
    "\n",
    "def ajustar_valor_monetario(df, valor_minimo, valor_maximo, puntuacion_maxima, q1_total, q3_total, varianza_total, umbral_varianza, ajuste_cuartiles, ajuste_varianza):\n",
    "    df['Valor_Monetario'] = df['Puntuacion_Total'].apply(lambda x: escalar_valor_monetario(x, valor_minimo, valor_maximo, puntuacion_maxima))\n",
    "\n",
    "    # Ajuste por cuartiles\n",
    "    df.loc[df['Puntuacion_Total'] > q3_total, 'Valor_Monetario'] += ajuste_cuartiles\n",
    "    df.loc[df['Puntuacion_Total'] < q1_total, 'Valor_Monetario'] -= ajuste_cuartiles\n",
    "\n",
    "    # Ajuste por varianza\n",
    "    if varianza_total > umbral_varianza:\n",
    "        df['Valor_Monetario'] -= ajuste_varianza\n",
    "    elif varianza_total < umbral_varianza:\n",
    "        df['Valor_Monetario'] += ajuste_varianza\n",
    "\n",
    "    df['Valor_Monetario'] = df['Valor_Monetario'].clip(lower=valor_minimo, upper=valor_maximo)\n",
    "    return df\n",
    "\n",
    "# Parámetros adicionales para el ajuste\n",
    "ajuste_cuartiles = 15  # Ajuste monetario para jugadores en los cuartiles superior e inferior\n",
    "ajuste_varianza = 10   # Ajuste monetario para la varianza\n",
    "\n",
    "# Calcula 'Puntuacion_Total'\n",
    "columnas_puntuaciones = [stat + '_por_GP_normalizado' for stat in estadisticas]\n",
    "df_puntuaciones_finales['Puntuacion_Total'] = df_puntuaciones_finales[columnas_puntuaciones].mean(axis=1)\n",
    "\n",
    "# Convertir 'Puntuacion_Total' a escala de 0 a 100, si aún no se ha hecho\n",
    "df_puntuaciones_finales['Puntuacion_Total'] = (df_puntuaciones_finales['Puntuacion_Total'] * 10).round(2)\n",
    "\n",
    "# Aplicar ajustes al valor monetario con los nuevos cuartiles y varianza\n",
    "if 'Puntuacion_Total' in df_puntuaciones_finales.columns:\n",
    "    df_puntuaciones_finales = ajustar_valor_monetario(df_puntuaciones_finales, valor_minimo, valor_maximo, puntuacion_maxima, q1_total, q3_total, varianza_total, umbral_varianza, ajuste_cuartiles, ajuste_varianza)\n",
    "\n",
    "# Imprimir el resultado\n",
    "print(df_puntuaciones_finales[['Nombre', 'Apellido', 'Puntuacion_Total', 'Valor_Monetario']].sort_values(by='Valor_Monetario', ascending=False))"
   ]
  },
  {
   "cell_type": "code",
   "execution_count": 33,
   "metadata": {},
   "outputs": [
    {
     "data": {
      "text/plain": [
       "['id_jugador',\n",
       " 'Nombre',\n",
       " 'Apellido',\n",
       " 'ID Equipo',\n",
       " 'Dorsal',\n",
       " 'Posición',\n",
       " 'PPG',\n",
       " 'RPG',\n",
       " 'APG',\n",
       " 'PIE',\n",
       " 'Altura (metros)',\n",
       " 'Peso (kg)',\n",
       " 'País',\n",
       " 'Último Equipo',\n",
       " 'Edad',\n",
       " 'Cumpleaños',\n",
       " 'Draft',\n",
       " 'Experiencia',\n",
       " 'GP',\n",
       " 'MIN',\n",
       " 'PTS',\n",
       " 'FGM',\n",
       " 'FGA',\n",
       " 'FG%',\n",
       " '3PM',\n",
       " '3PA',\n",
       " '3P%',\n",
       " 'FTM',\n",
       " 'FTA',\n",
       " 'FT%',\n",
       " 'OREB',\n",
       " 'DREB',\n",
       " 'REB',\n",
       " 'AST',\n",
       " 'STL',\n",
       " 'BLK',\n",
       " 'TOV',\n",
       " 'PF',\n",
       " 'EFF',\n",
       " 'AST/TOV',\n",
       " 'STL/TOV',\n",
       " 'MIN_por_GP',\n",
       " 'PTS_por_GP',\n",
       " 'FGM_por_GP',\n",
       " 'FGA_por_GP',\n",
       " '3PM_por_GP',\n",
       " '3PA_por_GP',\n",
       " 'FTM_por_GP',\n",
       " 'FTA_por_GP',\n",
       " 'OREB_por_GP',\n",
       " 'DREB_por_GP',\n",
       " 'REB_por_GP',\n",
       " 'AST_por_GP',\n",
       " 'STL_por_GP',\n",
       " 'BLK_por_GP',\n",
       " 'TOV_por_GP',\n",
       " 'PF_por_GP',\n",
       " 'EFF_por_GP',\n",
       " 'MIN_por_GP_normalizado',\n",
       " 'PTS_por_GP_normalizado',\n",
       " 'FGM_por_GP_normalizado',\n",
       " 'FGA_por_GP_normalizado',\n",
       " '3PM_por_GP_normalizado',\n",
       " '3PA_por_GP_normalizado',\n",
       " 'FTM_por_GP_normalizado',\n",
       " 'FTA_por_GP_normalizado',\n",
       " 'OREB_por_GP_normalizado',\n",
       " 'DREB_por_GP_normalizado',\n",
       " 'REB_por_GP_normalizado',\n",
       " 'AST_por_GP_normalizado',\n",
       " 'STL_por_GP_normalizado',\n",
       " 'BLK_por_GP_normalizado',\n",
       " 'TOV_por_GP_normalizado',\n",
       " 'PF_por_GP_normalizado',\n",
       " 'EFF_por_GP_normalizado',\n",
       " 'Puntuacion_Total',\n",
       " 'Valor_Monetario_Base',\n",
       " 'Valor_Monetario']"
      ]
     },
     "execution_count": 33,
     "metadata": {},
     "output_type": "execute_result"
    }
   ],
   "source": [
    "list(df_puntuaciones_finales)"
   ]
  },
  {
   "cell_type": "code",
   "execution_count": 35,
   "metadata": {},
   "outputs": [
    {
     "data": {
      "image/png": "[encoded data removed]",
      "text/plain": [
       "<Figure size 640x480 with 1 Axes>"
      ]
     },
     "metadata": {},
     "output_type": "display_data"
    },
    {
     "data": {
      "image/png": "[encoded data removed]",
      "text/plain": [
       "<Figure size 640x480 with 1 Axes>"
      ]
     },
     "metadata": {},
     "output_type": "display_data"
    },
    {
     "data": {
      "image/png": "[encoded data removed]",
      "text/plain": [
       "<Figure size 640x480 with 1 Axes>"
      ]
     },
     "metadata": {},
     "output_type": "display_data"
    }
   ],
   "source": [
    "# Ya tenemos los cálculos hechos... ahora vamos a graficar\n",
    "# Primero vamos a poner el top3 de jugadores ofensivos en un gráfico tipo radar \n",
    "\n",
    "# Categorías para el gráfico de radar\n",
    "categorias = ['FG%', '3P%', 'FT%', 'OREB', 'DREB', 'AST', 'STL', 'BLK', 'TOV', 'PF']\n",
    "N = len(categorias)\n",
    "\n",
    "# Ordenamos los jugadores por 'Puntuacion_Total' y seleccionamos los top 3\n",
    "top_jugadores = df_puntuaciones_finales.sort_values(by='Puntuacion_Total', ascending=False).head(3)\n",
    "\n",
    "# Normalizamos las estadísticas para cada jugador\n",
    "for cat in categorias:\n",
    "    max_value = top_jugadores[cat].max()\n",
    "    if max_value > 0:\n",
    "        top_jugadores[cat] = top_jugadores[cat] / max_value\n",
    "\n",
    "# Crear un gráfico de radar para cada jugador\n",
    "for index, jugador in top_jugadores.iterrows():\n",
    "    valores = [jugador[cat] for cat in categorias] + [jugador[categorias[0]]]  # Repite el primer valor al final para cerrar el círculo\n",
    "    angulos = [n / float(N) * 2 * np.pi for n in range(N)]\n",
    "    angulos += angulos[:1]\n",
    "\n",
    "    ax = plt.subplot(111, polar=True)\n",
    "    plt.xticks(angulos[:-1], categorias)\n",
    "\n",
    "    ax.plot(angulos, valores)\n",
    "    ax.fill(angulos, valores, 'teal', alpha=0.1)\n",
    "\n",
    "    plt.title(f\"Estadísticas de {jugador['Nombre']} {jugador['Apellido']}\")\n",
    "    plt.show()\n",
    "\n",
    "\n"
   ]
  },
  {
   "cell_type": "code",
   "execution_count": 39,
   "metadata": {},
   "outputs": [
    {
     "data": {
      "application/vnd.plotly.v1+json": {
       "config": {
        "plotlyServerURL": "https://plot.ly"
       },
       "data": [
        {
         "fill": "toself",
         "name": "Joel Embiid",
         "r": [
          8.813838550247116,
          9.399477806788513,
          10,
          7.604166666666666,
          7.704402515723271,
          5.344262295081967,
          6.595744680851063,
          10,
          8.091603053435115,
          7.3584905660377355,
          8.813838550247116
         ],
         "theta": [
          "FG%",
          "3P%",
          "FT%",
          "OREB",
          "DREB",
          "AST",
          "STL",
          "BLK",
          "TOV",
          "PF",
          "FG%"
         ],
         "type": "scatterpolar"
        }
       ],
       "layout": {
        "polar": {
         "radialaxis": {
          "range": [
           0,
           10
          ],
          "visible": true
         }
        },
        "showlegend": false,
        "template": {
         "data": {
          "bar": [
           {
            "error_x": {
             "color": "#2a3f5f"
            },
            "error_y": {
             "color": "#2a3f5f"
            },
            "marker": {
             "line": {
              "color": "#E5ECF6",
              "width": 0.5
             },
             "pattern": {
              "fillmode": "overlay",
              "size": 10,
              "solidity": 0.2
             }
            },
            "type": "bar"
           }
          ],
          "barpolar": [
           {
            "marker": {
             "line": {
              "color": "#E5ECF6",
              "width": 0.5
             },
             "pattern": {
              "fillmode": "overlay",
              "size": 10,
              "solidity": 0.2
             }
            },
            "type": "barpolar"
           }
          ],
          "carpet": [
           {
            "aaxis": {
             "endlinecolor": "#2a3f5f",
             "gridcolor": "white",
             "linecolor": "white",
             "minorgridcolor": "white",
             "startlinecolor": "#2a3f5f"
            },
            "baxis": {
             "endlinecolor": "#2a3f5f",
             "gridcolor": "white",
             "linecolor": "white",
             "minorgridcolor": "white",
             "startlinecolor": "#2a3f5f"
            },
            "type": "carpet"
           }
          ],
          "choropleth": [
           {
            "colorbar": {
             "outlinewidth": 0,
             "ticks": ""
            },
            "type": "choropleth"
           }
          ],
          "contour": [
           {
            "colorbar": {
             "outlinewidth": 0,
             "ticks": ""
            },
            "colorscale": [
             [
              0,
              "#0d0887"
             ],
             [
              0.1111111111111111,
              "#46039f"
             ],
             [
              0.2222222222222222,
              "#7201a8"
             ],
             [
              0.3333333333333333,
              "#9c179e"
             ],
             [
              0.4444444444444444,
              "#bd3786"
             ],
             [
              0.5555555555555556,
              "#d8576b"
             ],
             [
              0.6666666666666666,
              "#ed7953"
             ],
             [
              0.7777777777777778,
              "#fb9f3a"
             ],
             [
              0.8888888888888888,
              "#fdca26"
             ],
             [
              1,
              "#f0f921"
             ]
            ],
            "type": "contour"
           }
          ],
          "contourcarpet": [
           {
            "colorbar": {
             "outlinewidth": 0,
             "ticks": ""
            },
            "type": "contourcarpet"
           }
          ],
          "heatmap": [
           {
            "colorbar": {
             "outlinewidth": 0,
             "ticks": ""
            },
            "colorscale": [
             [
              0,
              "#0d0887"
             ],
             [
              0.1111111111111111,
              "#46039f"
             ],
             [
              0.2222222222222222,
              "#7201a8"
             ],
             [
              0.3333333333333333,
              "#9c179e"
             ],
             [
              0.4444444444444444,
              "#bd3786"
             ],
             [
              0.5555555555555556,
              "#d8576b"
             ],
             [
              0.6666666666666666,
              "#ed7953"
             ],
             [
              0.7777777777777778,
              "#fb9f3a"
             ],
             [
              0.8888888888888888,
              "#fdca26"
             ],
             [
              1,
              "#f0f921"
             ]
            ],
            "type": "heatmap"
           }
          ],
          "heatmapgl": [
           {
            "colorbar": {
             "outlinewidth": 0,
             "ticks": ""
            },
            "colorscale": [
             [
              0,
              "#0d0887"
             ],
             [
              0.1111111111111111,
              "#46039f"
             ],
             [
              0.2222222222222222,
              "#7201a8"
             ],
             [
              0.3333333333333333,
              "#9c179e"
             ],
             [
              0.4444444444444444,
              "#bd3786"
             ],
             [
              0.5555555555555556,
              "#d8576b"
             ],
             [
              0.6666666666666666,
              "#ed7953"
             ],
             [
              0.7777777777777778,
              "#fb9f3a"
             ],
             [
              0.8888888888888888,
              "#fdca26"
             ],
             [
              1,
              "#f0f921"
             ]
            ],
            "type": "heatmapgl"
           }
          ],
          "histogram": [
           {
            "marker": {
             "pattern": {
              "fillmode": "overlay",
              "size": 10,
              "solidity": 0.2
             }
            },
            "type": "histogram"
           }
          ],
          "histogram2d": [
           {
            "colorbar": {
             "outlinewidth": 0,
             "ticks": ""
            },
            "colorscale": [
             [
              0,
              "#0d0887"
             ],
             [
              0.1111111111111111,
              "#46039f"
             ],
             [
              0.2222222222222222,
              "#7201a8"
             ],
             [
              0.3333333333333333,
              "#9c179e"
             ],
             [
              0.4444444444444444,
              "#bd3786"
             ],
             [
              0.5555555555555556,
              "#d8576b"
             ],
             [
              0.6666666666666666,
              "#ed7953"
             ],
             [
              0.7777777777777778,
              "#fb9f3a"
             ],
             [
              0.8888888888888888,
              "#fdca26"
             ],
             [
              1,
              "#f0f921"
             ]
            ],
            "type": "histogram2d"
           }
          ],
          "histogram2dcontour": [
           {
            "colorbar": {
             "outlinewidth": 0,
             "ticks": ""
            },
            "colorscale": [
             [
              0,
              "#0d0887"
             ],
             [
              0.1111111111111111,
              "#46039f"
             ],
             [
              0.2222222222222222,
              "#7201a8"
             ],
             [
              0.3333333333333333,
              "#9c179e"
             ],
             [
              0.4444444444444444,
              "#bd3786"
             ],
             [
              0.5555555555555556,
              "#d8576b"
             ],
             [
              0.6666666666666666,
              "#ed7953"
             ],
             [
              0.7777777777777778,
              "#fb9f3a"
             ],
             [
              0.8888888888888888,
              "#fdca26"
             ],
             [
              1,
              "#f0f921"
             ]
            ],
            "type": "histogram2dcontour"
           }
          ],
          "mesh3d": [
           {
            "colorbar": {
             "outlinewidth": 0,
             "ticks": ""
            },
            "type": "mesh3d"
           }
          ],
          "parcoords": [
           {
            "line": {
             "colorbar": {
              "outlinewidth": 0,
              "ticks": ""
             }
            },
            "type": "parcoords"
           }
          ],
          "pie": [
           {
            "automargin": true,
            "type": "pie"
           }
          ],
          "scatter": [
           {
            "fillpattern": {
             "fillmode": "overlay",
             "size": 10,
             "solidity": 0.2
            },
            "type": "scatter"
           }
          ],
          "scatter3d": [
           {
            "line": {
             "colorbar": {
              "outlinewidth": 0,
              "ticks": ""
             }
            },
            "marker": {
             "colorbar": {
              "outlinewidth": 0,
              "ticks": ""
             }
            },
            "type": "scatter3d"
           }
          ],
          "scattercarpet": [
           {
            "marker": {
             "colorbar": {
              "outlinewidth": 0,
              "ticks": ""
             }
            },
            "type": "scattercarpet"
           }
          ],
          "scattergeo": [
           {
            "marker": {
             "colorbar": {
              "outlinewidth": 0,
              "ticks": ""
             }
            },
            "type": "scattergeo"
           }
          ],
          "scattergl": [
           {
            "marker": {
             "colorbar": {
              "outlinewidth": 0,
              "ticks": ""
             }
            },
            "type": "scattergl"
           }
          ],
          "scattermapbox": [
           {
            "marker": {
             "colorbar": {
              "outlinewidth": 0,
              "ticks": ""
             }
            },
            "type": "scattermapbox"
           }
          ],
          "scatterpolar": [
           {
            "marker": {
             "colorbar": {
              "outlinewidth": 0,
              "ticks": ""
             }
            },
            "type": "scatterpolar"
           }
          ],
          "scatterpolargl": [
           {
            "marker": {
             "colorbar": {
              "outlinewidth": 0,
              "ticks": ""
             }
            },
            "type": "scatterpolargl"
           }
          ],
          "scatterternary": [
           {
            "marker": {
             "colorbar": {
              "outlinewidth": 0,
              "ticks": ""
             }
            },
            "type": "scatterternary"
           }
          ],
          "surface": [
           {
            "colorbar": {
             "outlinewidth": 0,
             "ticks": ""
            },
            "colorscale": [
             [
              0,
              "#0d0887"
             ],
             [
              0.1111111111111111,
              "#46039f"
             ],
             [
              0.2222222222222222,
              "#7201a8"
             ],
             [
              0.3333333333333333,
              "#9c179e"
             ],
             [
              0.4444444444444444,
              "#bd3786"
             ],
             [
              0.5555555555555556,
              "#d8576b"
             ],
             [
              0.6666666666666666,
              "#ed7953"
             ],
             [
              0.7777777777777778,
              "#fb9f3a"
             ],
             [
              0.8888888888888888,
              "#fdca26"
             ],
             [
              1,
              "#f0f921"
             ]
            ],
            "type": "surface"
           }
          ],
          "table": [
           {
            "cells": {
             "fill": {
              "color": "#EBF0F8"
             },
             "line": {
              "color": "white"
             }
            },
            "header": {
             "fill": {
              "color": "#C8D4E3"
             },
             "line": {
              "color": "white"
             }
            },
            "type": "table"
           }
          ]
         },
         "layout": {
          "annotationdefaults": {
           "arrowcolor": "#2a3f5f",
           "arrowhead": 0,
           "arrowwidth": 1
          },
          "autotypenumbers": "strict",
          "coloraxis": {
           "colorbar": {
            "outlinewidth": 0,
            "ticks": ""
           }
          },
          "colorscale": {
           "diverging": [
            [
             0,
             "#8e0152"
            ],
            [
             0.1,
             "#c51b7d"
            ],
            [
             0.2,
             "#de77ae"
            ],
            [
             0.3,
             "#f1b6da"
            ],
            [
             0.4,
             "#fde0ef"
            ],
            [
             0.5,
             "#f7f7f7"
            ],
            [
             0.6,
             "#e6f5d0"
            ],
            [
             0.7,
             "#b8e186"
            ],
            [
             0.8,
             "#7fbc41"
            ],
            [
             0.9,
             "#4d9221"
            ],
            [
             1,
             "#276419"
            ]
           ],
           "sequential": [
            [
             0,
             "#0d0887"
            ],
            [
             0.1111111111111111,
             "#46039f"
            ],
            [
             0.2222222222222222,
             "#7201a8"
            ],
            [
             0.3333333333333333,
             "#9c179e"
            ],
            [
             0.4444444444444444,
             "#bd3786"
            ],
            [
             0.5555555555555556,
             "#d8576b"
            ],
            [
             0.6666666666666666,
             "#ed7953"
            ],
            [
             0.7777777777777778,
             "#fb9f3a"
            ],
            [
             0.8888888888888888,
             "#fdca26"
            ],
            [
             1,
             "#f0f921"
            ]
           ],
           "sequentialminus": [
            [
             0,
             "#0d0887"
            ],
            [
             0.1111111111111111,
             "#46039f"
            ],
            [
             0.2222222222222222,
             "#7201a8"
            ],
            [
             0.3333333333333333,
             "#9c179e"
            ],
            [
             0.4444444444444444,
             "#bd3786"
            ],
            [
             0.5555555555555556,
             "#d8576b"
            ],
            [
             0.6666666666666666,
             "#ed7953"
            ],
            [
             0.7777777777777778,
             "#fb9f3a"
            ],
            [
             0.8888888888888888,
             "#fdca26"
            ],
            [
             1,
             "#f0f921"
            ]
           ]
          },
          "colorway": [
           "#636efa",
           "#EF553B",
           "#00cc96",
           "#ab63fa",
           "#FFA15A",
           "#19d3f3",
           "#FF6692",
           "#B6E880",
           "#FF97FF",
           "#FECB52"
          ],
          "font": {
           "color": "#2a3f5f"
          },
          "geo": {
           "bgcolor": "white",
           "lakecolor": "white",
           "landcolor": "#E5ECF6",
           "showlakes": true,
           "showland": true,
           "subunitcolor": "white"
          },
          "hoverlabel": {
           "align": "left"
          },
          "hovermode": "closest",
          "mapbox": {
           "style": "light"
          },
          "paper_bgcolor": "white",
          "plot_bgcolor": "#E5ECF6",
          "polar": {
           "angularaxis": {
            "gridcolor": "white",
            "linecolor": "white",
            "ticks": ""
           },
           "bgcolor": "#E5ECF6",
           "radialaxis": {
            "gridcolor": "white",
            "linecolor": "white",
            "ticks": ""
           }
          },
          "scene": {
           "xaxis": {
            "backgroundcolor": "#E5ECF6",
            "gridcolor": "white",
            "gridwidth": 2,
            "linecolor": "white",
            "showbackground": true,
            "ticks": "",
            "zerolinecolor": "white"
           },
           "yaxis": {
            "backgroundcolor": "#E5ECF6",
            "gridcolor": "white",
            "gridwidth": 2,
            "linecolor": "white",
            "showbackground": true,
            "ticks": "",
            "zerolinecolor": "white"
           },
           "zaxis": {
            "backgroundcolor": "#E5ECF6",
            "gridcolor": "white",
            "gridwidth": 2,
            "linecolor": "white",
            "showbackground": true,
            "ticks": "",
            "zerolinecolor": "white"
           }
          },
          "shapedefaults": {
           "line": {
            "color": "#2a3f5f"
           }
          },
          "ternary": {
           "aaxis": {
            "gridcolor": "white",
            "linecolor": "white",
            "ticks": ""
           },
           "baxis": {
            "gridcolor": "white",
            "linecolor": "white",
            "ticks": ""
           },
           "bgcolor": "#E5ECF6",
           "caxis": {
            "gridcolor": "white",
            "linecolor": "white",
            "ticks": ""
           }
          },
          "title": {
           "x": 0.05
          },
          "xaxis": {
           "automargin": true,
           "gridcolor": "white",
           "linecolor": "white",
           "ticks": "",
           "title": {
            "standoff": 15
           },
           "zerolinecolor": "white",
           "zerolinewidth": 2
          },
          "yaxis": {
           "automargin": true,
           "gridcolor": "white",
           "linecolor": "white",
           "ticks": "",
           "title": {
            "standoff": 15
           },
           "zerolinecolor": "white",
           "zerolinewidth": 2
          }
         }
        },
        "title": {
         "text": "Valor de puntuaciones de las estadísticas de Joel Embiid"
        }
       }
      }
     },
     "metadata": {},
     "output_type": "display_data"
    },
    {
     "data": {
      "application/vnd.plotly.v1+json": {
       "config": {
        "plotlyServerURL": "https://plot.ly"
       },
       "data": [
        {
         "fill": "toself",
         "name": "Luka Doncic",
         "r": [
          8.023064250411862,
          10,
          8.843537414965986,
          2.5,
          7.735849056603774,
          10,
          9.361702127659575,
          3.5185185185185186,
          10,
          5.377358490566038,
          8.023064250411862
         ],
         "theta": [
          "FG%",
          "3P%",
          "FT%",
          "OREB",
          "DREB",
          "AST",
          "STL",
          "BLK",
          "TOV",
          "PF",
          "FG%"
         ],
         "type": "scatterpolar"
        }
       ],
       "layout": {
        "polar": {
         "radialaxis": {
          "range": [
           0,
           10
          ],
          "visible": true
         }
        },
        "showlegend": false,
        "template": {
         "data": {
          "bar": [
           {
            "error_x": {
             "color": "#2a3f5f"
            },
            "error_y": {
             "color": "#2a3f5f"
            },
            "marker": {
             "line": {
              "color": "#E5ECF6",
              "width": 0.5
             },
             "pattern": {
              "fillmode": "overlay",
              "size": 10,
              "solidity": 0.2
             }
            },
            "type": "bar"
           }
          ],
          "barpolar": [
           {
            "marker": {
             "line": {
              "color": "#E5ECF6",
              "width": 0.5
             },
             "pattern": {
              "fillmode": "overlay",
              "size": 10,
              "solidity": 0.2
             }
            },
            "type": "barpolar"
           }
          ],
          "carpet": [
           {
            "aaxis": {
             "endlinecolor": "#2a3f5f",
             "gridcolor": "white",
             "linecolor": "white",
             "minorgridcolor": "white",
             "startlinecolor": "#2a3f5f"
            },
            "baxis": {
             "endlinecolor": "#2a3f5f",
             "gridcolor": "white",
             "linecolor": "white",
             "minorgridcolor": "white",
             "startlinecolor": "#2a3f5f"
            },
            "type": "carpet"
           }
          ],
          "choropleth": [
           {
            "colorbar": {
             "outlinewidth": 0,
             "ticks": ""
            },
            "type": "choropleth"
           }
          ],
          "contour": [
           {
            "colorbar": {
             "outlinewidth": 0,
             "ticks": ""
            },
            "colorscale": [
             [
              0,
              "#0d0887"
             ],
             [
              0.1111111111111111,
              "#46039f"
             ],
             [
              0.2222222222222222,
              "#7201a8"
             ],
             [
              0.3333333333333333,
              "#9c179e"
             ],
             [
              0.4444444444444444,
              "#bd3786"
             ],
             [
              0.5555555555555556,
              "#d8576b"
             ],
             [
              0.6666666666666666,
              "#ed7953"
             ],
             [
              0.7777777777777778,
              "#fb9f3a"
             ],
             [
              0.8888888888888888,
              "#fdca26"
             ],
             [
              1,
              "#f0f921"
             ]
            ],
            "type": "contour"
           }
          ],
          "contourcarpet": [
           {
            "colorbar": {
             "outlinewidth": 0,
             "ticks": ""
            },
            "type": "contourcarpet"
           }
          ],
          "heatmap": [
           {
            "colorbar": {
             "outlinewidth": 0,
             "ticks": ""
            },
            "colorscale": [
             [
              0,
              "#0d0887"
             ],
             [
              0.1111111111111111,
              "#46039f"
             ],
             [
              0.2222222222222222,
              "#7201a8"
             ],
             [
              0.3333333333333333,
              "#9c179e"
             ],
             [
              0.4444444444444444,
              "#bd3786"
             ],
             [
              0.5555555555555556,
              "#d8576b"
             ],
             [
              0.6666666666666666,
              "#ed7953"
             ],
             [
              0.7777777777777778,
              "#fb9f3a"
             ],
             [
              0.8888888888888888,
              "#fdca26"
             ],
             [
              1,
              "#f0f921"
             ]
            ],
            "type": "heatmap"
           }
          ],
          "heatmapgl": [
           {
            "colorbar": {
             "outlinewidth": 0,
             "ticks": ""
            },
            "colorscale": [
             [
              0,
              "#0d0887"
             ],
             [
              0.1111111111111111,
              "#46039f"
             ],
             [
              0.2222222222222222,
              "#7201a8"
             ],
             [
              0.3333333333333333,
              "#9c179e"
             ],
             [
              0.4444444444444444,
              "#bd3786"
             ],
             [
              0.5555555555555556,
              "#d8576b"
             ],
             [
              0.6666666666666666,
              "#ed7953"
             ],
             [
              0.7777777777777778,
              "#fb9f3a"
             ],
             [
              0.8888888888888888,
              "#fdca26"
             ],
             [
              1,
              "#f0f921"
             ]
            ],
            "type": "heatmapgl"
           }
          ],
          "histogram": [
           {
            "marker": {
             "pattern": {
              "fillmode": "overlay",
              "size": 10,
              "solidity": 0.2
             }
            },
            "type": "histogram"
           }
          ],
          "histogram2d": [
           {
            "colorbar": {
             "outlinewidth": 0,
             "ticks": ""
            },
            "colorscale": [
             [
              0,
              "#0d0887"
             ],
             [
              0.1111111111111111,
              "#46039f"
             ],
             [
              0.2222222222222222,
              "#7201a8"
             ],
             [
              0.3333333333333333,
              "#9c179e"
             ],
             [
              0.4444444444444444,
              "#bd3786"
             ],
             [
              0.5555555555555556,
              "#d8576b"
             ],
             [
              0.6666666666666666,
              "#ed7953"
             ],
             [
              0.7777777777777778,
              "#fb9f3a"
             ],
             [
              0.8888888888888888,
              "#fdca26"
             ],
             [
              1,
              "#f0f921"
             ]
            ],
            "type": "histogram2d"
           }
          ],
          "histogram2dcontour": [
           {
            "colorbar": {
             "outlinewidth": 0,
             "ticks": ""
            },
            "colorscale": [
             [
              0,
              "#0d0887"
             ],
             [
              0.1111111111111111,
              "#46039f"
             ],
             [
              0.2222222222222222,
              "#7201a8"
             ],
             [
              0.3333333333333333,
              "#9c179e"
             ],
             [
              0.4444444444444444,
              "#bd3786"
             ],
             [
              0.5555555555555556,
              "#d8576b"
             ],
             [
              0.6666666666666666,
              "#ed7953"
             ],
             [
              0.7777777777777778,
              "#fb9f3a"
             ],
             [
              0.8888888888888888,
              "#fdca26"
             ],
             [
              1,
              "#f0f921"
             ]
            ],
            "type": "histogram2dcontour"
           }
          ],
          "mesh3d": [
           {
            "colorbar": {
             "outlinewidth": 0,
             "ticks": ""
            },
            "type": "mesh3d"
           }
          ],
          "parcoords": [
           {
            "line": {
             "colorbar": {
              "outlinewidth": 0,
              "ticks": ""
             }
            },
            "type": "parcoords"
           }
          ],
          "pie": [
           {
            "automargin": true,
            "type": "pie"
           }
          ],
          "scatter": [
           {
            "fillpattern": {
             "fillmode": "overlay",
             "size": 10,
             "solidity": 0.2
            },
            "type": "scatter"
           }
          ],
          "scatter3d": [
           {
            "line": {
             "colorbar": {
              "outlinewidth": 0,
              "ticks": ""
             }
            },
            "marker": {
             "colorbar": {
              "outlinewidth": 0,
              "ticks": ""
             }
            },
            "type": "scatter3d"
           }
          ],
          "scattercarpet": [
           {
            "marker": {
             "colorbar": {
              "outlinewidth": 0,
              "ticks": ""
             }
            },
            "type": "scattercarpet"
           }
          ],
          "scattergeo": [
           {
            "marker": {
             "colorbar": {
              "outlinewidth": 0,
              "ticks": ""
             }
            },
            "type": "scattergeo"
           }
          ],
          "scattergl": [
           {
            "marker": {
             "colorbar": {
              "outlinewidth": 0,
              "ticks": ""
             }
            },
            "type": "scattergl"
           }
          ],
          "scattermapbox": [
           {
            "marker": {
             "colorbar": {
              "outlinewidth": 0,
              "ticks": ""
             }
            },
            "type": "scattermapbox"
           }
          ],
          "scatterpolar": [
           {
            "marker": {
             "colorbar": {
              "outlinewidth": 0,
              "ticks": ""
             }
            },
            "type": "scatterpolar"
           }
          ],
          "scatterpolargl": [
           {
            "marker": {
             "colorbar": {
              "outlinewidth": 0,
              "ticks": ""
             }
            },
            "type": "scatterpolargl"
           }
          ],
          "scatterternary": [
           {
            "marker": {
             "colorbar": {
              "outlinewidth": 0,
              "ticks": ""
             }
            },
            "type": "scatterternary"
           }
          ],
          "surface": [
           {
            "colorbar": {
             "outlinewidth": 0,
             "ticks": ""
            },
            "colorscale": [
             [
              0,
              "#0d0887"
             ],
             [
              0.1111111111111111,
              "#46039f"
             ],
             [
              0.2222222222222222,
              "#7201a8"
             ],
             [
              0.3333333333333333,
              "#9c179e"
             ],
             [
              0.4444444444444444,
              "#bd3786"
             ],
             [
              0.5555555555555556,
              "#d8576b"
             ],
             [
              0.6666666666666666,
              "#ed7953"
             ],
             [
              0.7777777777777778,
              "#fb9f3a"
             ],
             [
              0.8888888888888888,
              "#fdca26"
             ],
             [
              1,
              "#f0f921"
             ]
            ],
            "type": "surface"
           }
          ],
          "table": [
           {
            "cells": {
             "fill": {
              "color": "#EBF0F8"
             },
             "line": {
              "color": "white"
             }
            },
            "header": {
             "fill": {
              "color": "#C8D4E3"
             },
             "line": {
              "color": "white"
             }
            },
            "type": "table"
           }
          ]
         },
         "layout": {
          "annotationdefaults": {
           "arrowcolor": "#2a3f5f",
           "arrowhead": 0,
           "arrowwidth": 1
          },
          "autotypenumbers": "strict",
          "coloraxis": {
           "colorbar": {
            "outlinewidth": 0,
            "ticks": ""
           }
          },
          "colorscale": {
           "diverging": [
            [
             0,
             "#8e0152"
            ],
            [
             0.1,
             "#c51b7d"
            ],
            [
             0.2,
             "#de77ae"
            ],
            [
             0.3,
             "#f1b6da"
            ],
            [
             0.4,
             "#fde0ef"
            ],
            [
             0.5,
             "#f7f7f7"
            ],
            [
             0.6,
             "#e6f5d0"
            ],
            [
             0.7,
             "#b8e186"
            ],
            [
             0.8,
             "#7fbc41"
            ],
            [
             0.9,
             "#4d9221"
            ],
            [
             1,
             "#276419"
            ]
           ],
           "sequential": [
            [
             0,
             "#0d0887"
            ],
            [
             0.1111111111111111,
             "#46039f"
            ],
            [
             0.2222222222222222,
             "#7201a8"
            ],
            [
             0.3333333333333333,
             "#9c179e"
            ],
            [
             0.4444444444444444,
             "#bd3786"
            ],
            [
             0.5555555555555556,
             "#d8576b"
            ],
            [
             0.6666666666666666,
             "#ed7953"
            ],
            [
             0.7777777777777778,
             "#fb9f3a"
            ],
            [
             0.8888888888888888,
             "#fdca26"
            ],
            [
             1,
             "#f0f921"
            ]
           ],
           "sequentialminus": [
            [
             0,
             "#0d0887"
            ],
            [
             0.1111111111111111,
             "#46039f"
            ],
            [
             0.2222222222222222,
             "#7201a8"
            ],
            [
             0.3333333333333333,
             "#9c179e"
            ],
            [
             0.4444444444444444,
             "#bd3786"
            ],
            [
             0.5555555555555556,
             "#d8576b"
            ],
            [
             0.6666666666666666,
             "#ed7953"
            ],
            [
             0.7777777777777778,
             "#fb9f3a"
            ],
            [
             0.8888888888888888,
             "#fdca26"
            ],
            [
             1,
             "#f0f921"
            ]
           ]
          },
          "colorway": [
           "#636efa",
           "#EF553B",
           "#00cc96",
           "#ab63fa",
           "#FFA15A",
           "#19d3f3",
           "#FF6692",
           "#B6E880",
           "#FF97FF",
           "#FECB52"
          ],
          "font": {
           "color": "#2a3f5f"
          },
          "geo": {
           "bgcolor": "white",
           "lakecolor": "white",
           "landcolor": "#E5ECF6",
           "showlakes": true,
           "showland": true,
           "subunitcolor": "white"
          },
          "hoverlabel": {
           "align": "left"
          },
          "hovermode": "closest",
          "mapbox": {
           "style": "light"
          },
          "paper_bgcolor": "white",
          "plot_bgcolor": "#E5ECF6",
          "polar": {
           "angularaxis": {
            "gridcolor": "white",
            "linecolor": "white",
            "ticks": ""
           },
           "bgcolor": "#E5ECF6",
           "radialaxis": {
            "gridcolor": "white",
            "linecolor": "white",
            "ticks": ""
           }
          },
          "scene": {
           "xaxis": {
            "backgroundcolor": "#E5ECF6",
            "gridcolor": "white",
            "gridwidth": 2,
            "linecolor": "white",
            "showbackground": true,
            "ticks": "",
            "zerolinecolor": "white"
           },
           "yaxis": {
            "backgroundcolor": "#E5ECF6",
            "gridcolor": "white",
            "gridwidth": 2,
            "linecolor": "white",
            "showbackground": true,
            "ticks": "",
            "zerolinecolor": "white"
           },
           "zaxis": {
            "backgroundcolor": "#E5ECF6",
            "gridcolor": "white",
            "gridwidth": 2,
            "linecolor": "white",
            "showbackground": true,
            "ticks": "",
            "zerolinecolor": "white"
           }
          },
          "shapedefaults": {
           "line": {
            "color": "#2a3f5f"
           }
          },
          "ternary": {
           "aaxis": {
            "gridcolor": "white",
            "linecolor": "white",
            "ticks": ""
           },
           "baxis": {
            "gridcolor": "white",
            "linecolor": "white",
            "ticks": ""
           },
           "bgcolor": "#E5ECF6",
           "caxis": {
            "gridcolor": "white",
            "linecolor": "white",
            "ticks": ""
           }
          },
          "title": {
           "x": 0.05
          },
          "xaxis": {
           "automargin": true,
           "gridcolor": "white",
           "linecolor": "white",
           "ticks": "",
           "title": {
            "standoff": 15
           },
           "zerolinecolor": "white",
           "zerolinewidth": 2
          },
          "yaxis": {
           "automargin": true,
           "gridcolor": "white",
           "linecolor": "white",
           "ticks": "",
           "title": {
            "standoff": 15
           },
           "zerolinecolor": "white",
           "zerolinewidth": 2
          }
         }
        },
        "title": {
         "text": "Valor de puntuaciones de las estadísticas de Luka Doncic"
        }
       }
      }
     },
     "metadata": {},
     "output_type": "display_data"
    },
    {
     "data": {
      "application/vnd.plotly.v1+json": {
       "config": {
        "plotlyServerURL": "https://plot.ly"
       },
       "data": [
        {
         "fill": "toself",
         "name": "Giannis Antetokounmpo",
         "r": [
          10,
          6.214099216710184,
          7.664399092970521,
          10,
          10,
          6.918032786885245,
          10,
          7.777777777777778,
          9.923664122137405,
          10,
          10
         ],
         "theta": [
          "FG%",
          "3P%",
          "FT%",
          "OREB",
          "DREB",
          "AST",
          "STL",
          "BLK",
          "TOV",
          "PF",
          "FG%"
         ],
         "type": "scatterpolar"
        }
       ],
       "layout": {
        "polar": {
         "radialaxis": {
          "range": [
           0,
           10
          ],
          "visible": true
         }
        },
        "showlegend": false,
        "template": {
         "data": {
          "bar": [
           {
            "error_x": {
             "color": "#2a3f5f"
            },
            "error_y": {
             "color": "#2a3f5f"
            },
            "marker": {
             "line": {
              "color": "#E5ECF6",
              "width": 0.5
             },
             "pattern": {
              "fillmode": "overlay",
              "size": 10,
              "solidity": 0.2
             }
            },
            "type": "bar"
           }
          ],
          "barpolar": [
           {
            "marker": {
             "line": {
              "color": "#E5ECF6",
              "width": 0.5
             },
             "pattern": {
              "fillmode": "overlay",
              "size": 10,
              "solidity": 0.2
             }
            },
            "type": "barpolar"
           }
          ],
          "carpet": [
           {
            "aaxis": {
             "endlinecolor": "#2a3f5f",
             "gridcolor": "white",
             "linecolor": "white",
             "minorgridcolor": "white",
             "startlinecolor": "#2a3f5f"
            },
            "baxis": {
             "endlinecolor": "#2a3f5f",
             "gridcolor": "white",
             "linecolor": "white",
             "minorgridcolor": "white",
             "startlinecolor": "#2a3f5f"
            },
            "type": "carpet"
           }
          ],
          "choropleth": [
           {
            "colorbar": {
             "outlinewidth": 0,
             "ticks": ""
            },
            "type": "choropleth"
           }
          ],
          "contour": [
           {
            "colorbar": {
             "outlinewidth": 0,
             "ticks": ""
            },
            "colorscale": [
             [
              0,
              "#0d0887"
             ],
             [
              0.1111111111111111,
              "#46039f"
             ],
             [
              0.2222222222222222,
              "#7201a8"
             ],
             [
              0.3333333333333333,
              "#9c179e"
             ],
             [
              0.4444444444444444,
              "#bd3786"
             ],
             [
              0.5555555555555556,
              "#d8576b"
             ],
             [
              0.6666666666666666,
              "#ed7953"
             ],
             [
              0.7777777777777778,
              "#fb9f3a"
             ],
             [
              0.8888888888888888,
              "#fdca26"
             ],
             [
              1,
              "#f0f921"
             ]
            ],
            "type": "contour"
           }
          ],
          "contourcarpet": [
           {
            "colorbar": {
             "outlinewidth": 0,
             "ticks": ""
            },
            "type": "contourcarpet"
           }
          ],
          "heatmap": [
           {
            "colorbar": {
             "outlinewidth": 0,
             "ticks": ""
            },
            "colorscale": [
             [
              0,
              "#0d0887"
             ],
             [
              0.1111111111111111,
              "#46039f"
             ],
             [
              0.2222222222222222,
              "#7201a8"
             ],
             [
              0.3333333333333333,
              "#9c179e"
             ],
             [
              0.4444444444444444,
              "#bd3786"
             ],
             [
              0.5555555555555556,
              "#d8576b"
             ],
             [
              0.6666666666666666,
              "#ed7953"
             ],
             [
              0.7777777777777778,
              "#fb9f3a"
             ],
             [
              0.8888888888888888,
              "#fdca26"
             ],
             [
              1,
              "#f0f921"
             ]
            ],
            "type": "heatmap"
           }
          ],
          "heatmapgl": [
           {
            "colorbar": {
             "outlinewidth": 0,
             "ticks": ""
            },
            "colorscale": [
             [
              0,
              "#0d0887"
             ],
             [
              0.1111111111111111,
              "#46039f"
             ],
             [
              0.2222222222222222,
              "#7201a8"
             ],
             [
              0.3333333333333333,
              "#9c179e"
             ],
             [
              0.4444444444444444,
              "#bd3786"
             ],
             [
              0.5555555555555556,
              "#d8576b"
             ],
             [
              0.6666666666666666,
              "#ed7953"
             ],
             [
              0.7777777777777778,
              "#fb9f3a"
             ],
             [
              0.8888888888888888,
              "#fdca26"
             ],
             [
              1,
              "#f0f921"
             ]
            ],
            "type": "heatmapgl"
           }
          ],
          "histogram": [
           {
            "marker": {
             "pattern": {
              "fillmode": "overlay",
              "size": 10,
              "solidity": 0.2
             }
            },
            "type": "histogram"
           }
          ],
          "histogram2d": [
           {
            "colorbar": {
             "outlinewidth": 0,
             "ticks": ""
            },
            "colorscale": [
             [
              0,
              "#0d0887"
             ],
             [
              0.1111111111111111,
              "#46039f"
             ],
             [
              0.2222222222222222,
              "#7201a8"
             ],
             [
              0.3333333333333333,
              "#9c179e"
             ],
             [
              0.4444444444444444,
              "#bd3786"
             ],
             [
              0.5555555555555556,
              "#d8576b"
             ],
             [
              0.6666666666666666,
              "#ed7953"
             ],
             [
              0.7777777777777778,
              "#fb9f3a"
             ],
             [
              0.8888888888888888,
              "#fdca26"
             ],
             [
              1,
              "#f0f921"
             ]
            ],
            "type": "histogram2d"
           }
          ],
          "histogram2dcontour": [
           {
            "colorbar": {
             "outlinewidth": 0,
             "ticks": ""
            },
            "colorscale": [
             [
              0,
              "#0d0887"
             ],
             [
              0.1111111111111111,
              "#46039f"
             ],
             [
              0.2222222222222222,
              "#7201a8"
             ],
             [
              0.3333333333333333,
              "#9c179e"
             ],
             [
              0.4444444444444444,
              "#bd3786"
             ],
             [
              0.5555555555555556,
              "#d8576b"
             ],
             [
              0.6666666666666666,
              "#ed7953"
             ],
             [
              0.7777777777777778,
              "#fb9f3a"
             ],
             [
              0.8888888888888888,
              "#fdca26"
             ],
             [
              1,
              "#f0f921"
             ]
            ],
            "type": "histogram2dcontour"
           }
          ],
          "mesh3d": [
           {
            "colorbar": {
             "outlinewidth": 0,
             "ticks": ""
            },
            "type": "mesh3d"
           }
          ],
          "parcoords": [
           {
            "line": {
             "colorbar": {
              "outlinewidth": 0,
              "ticks": ""
             }
            },
            "type": "parcoords"
           }
          ],
          "pie": [
           {
            "automargin": true,
            "type": "pie"
           }
          ],
          "scatter": [
           {
            "fillpattern": {
             "fillmode": "overlay",
             "size": 10,
             "solidity": 0.2
            },
            "type": "scatter"
           }
          ],
          "scatter3d": [
           {
            "line": {
             "colorbar": {
              "outlinewidth": 0,
              "ticks": ""
             }
            },
            "marker": {
             "colorbar": {
              "outlinewidth": 0,
              "ticks": ""
             }
            },
            "type": "scatter3d"
           }
          ],
          "scattercarpet": [
           {
            "marker": {
             "colorbar": {
              "outlinewidth": 0,
              "ticks": ""
             }
            },
            "type": "scattercarpet"
           }
          ],
          "scattergeo": [
           {
            "marker": {
             "colorbar": {
              "outlinewidth": 0,
              "ticks": ""
             }
            },
            "type": "scattergeo"
           }
          ],
          "scattergl": [
           {
            "marker": {
             "colorbar": {
              "outlinewidth": 0,
              "ticks": ""
             }
            },
            "type": "scattergl"
           }
          ],
          "scattermapbox": [
           {
            "marker": {
             "colorbar": {
              "outlinewidth": 0,
              "ticks": ""
             }
            },
            "type": "scattermapbox"
           }
          ],
          "scatterpolar": [
           {
            "marker": {
             "colorbar": {
              "outlinewidth": 0,
              "ticks": ""
             }
            },
            "type": "scatterpolar"
           }
          ],
          "scatterpolargl": [
           {
            "marker": {
             "colorbar": {
              "outlinewidth": 0,
              "ticks": ""
             }
            },
            "type": "scatterpolargl"
           }
          ],
          "scatterternary": [
           {
            "marker": {
             "colorbar": {
              "outlinewidth": 0,
              "ticks": ""
             }
            },
            "type": "scatterternary"
           }
          ],
          "surface": [
           {
            "colorbar": {
             "outlinewidth": 0,
             "ticks": ""
            },
            "colorscale": [
             [
              0,
              "#0d0887"
             ],
             [
              0.1111111111111111,
              "#46039f"
             ],
             [
              0.2222222222222222,
              "#7201a8"
             ],
             [
              0.3333333333333333,
              "#9c179e"
             ],
             [
              0.4444444444444444,
              "#bd3786"
             ],
             [
              0.5555555555555556,
              "#d8576b"
             ],
             [
              0.6666666666666666,
              "#ed7953"
             ],
             [
              0.7777777777777778,
              "#fb9f3a"
             ],
             [
              0.8888888888888888,
              "#fdca26"
             ],
             [
              1,
              "#f0f921"
             ]
            ],
            "type": "surface"
           }
          ],
          "table": [
           {
            "cells": {
             "fill": {
              "color": "#EBF0F8"
             },
             "line": {
              "color": "white"
             }
            },
            "header": {
             "fill": {
              "color": "#C8D4E3"
             },
             "line": {
              "color": "white"
             }
            },
            "type": "table"
           }
          ]
         },
         "layout": {
          "annotationdefaults": {
           "arrowcolor": "#2a3f5f",
           "arrowhead": 0,
           "arrowwidth": 1
          },
          "autotypenumbers": "strict",
          "coloraxis": {
           "colorbar": {
            "outlinewidth": 0,
            "ticks": ""
           }
          },
          "colorscale": {
           "diverging": [
            [
             0,
             "#8e0152"
            ],
            [
             0.1,
             "#c51b7d"
            ],
            [
             0.2,
             "#de77ae"
            ],
            [
             0.3,
             "#f1b6da"
            ],
            [
             0.4,
             "#fde0ef"
            ],
            [
             0.5,
             "#f7f7f7"
            ],
            [
             0.6,
             "#e6f5d0"
            ],
            [
             0.7,
             "#b8e186"
            ],
            [
             0.8,
             "#7fbc41"
            ],
            [
             0.9,
             "#4d9221"
            ],
            [
             1,
             "#276419"
            ]
           ],
           "sequential": [
            [
             0,
             "#0d0887"
            ],
            [
             0.1111111111111111,
             "#46039f"
            ],
            [
             0.2222222222222222,
             "#7201a8"
            ],
            [
             0.3333333333333333,
             "#9c179e"
            ],
            [
             0.4444444444444444,
             "#bd3786"
            ],
            [
             0.5555555555555556,
             "#d8576b"
            ],
            [
             0.6666666666666666,
             "#ed7953"
            ],
            [
             0.7777777777777778,
             "#fb9f3a"
            ],
            [
             0.8888888888888888,
             "#fdca26"
            ],
            [
             1,
             "#f0f921"
            ]
           ],
           "sequentialminus": [
            [
             0,
             "#0d0887"
            ],
            [
             0.1111111111111111,
             "#46039f"
            ],
            [
             0.2222222222222222,
             "#7201a8"
            ],
            [
             0.3333333333333333,
             "#9c179e"
            ],
            [
             0.4444444444444444,
             "#bd3786"
            ],
            [
             0.5555555555555556,
             "#d8576b"
            ],
            [
             0.6666666666666666,
             "#ed7953"
            ],
            [
             0.7777777777777778,
             "#fb9f3a"
            ],
            [
             0.8888888888888888,
             "#fdca26"
            ],
            [
             1,
             "#f0f921"
            ]
           ]
          },
          "colorway": [
           "#636efa",
           "#EF553B",
           "#00cc96",
           "#ab63fa",
           "#FFA15A",
           "#19d3f3",
           "#FF6692",
           "#B6E880",
           "#FF97FF",
           "#FECB52"
          ],
          "font": {
           "color": "#2a3f5f"
          },
          "geo": {
           "bgcolor": "white",
           "lakecolor": "white",
           "landcolor": "#E5ECF6",
           "showlakes": true,
           "showland": true,
           "subunitcolor": "white"
          },
          "hoverlabel": {
           "align": "left"
          },
          "hovermode": "closest",
          "mapbox": {
           "style": "light"
          },
          "paper_bgcolor": "white",
          "plot_bgcolor": "#E5ECF6",
          "polar": {
           "angularaxis": {
            "gridcolor": "white",
            "linecolor": "white",
            "ticks": ""
           },
           "bgcolor": "#E5ECF6",
           "radialaxis": {
            "gridcolor": "white",
            "linecolor": "white",
            "ticks": ""
           }
          },
          "scene": {
           "xaxis": {
            "backgroundcolor": "#E5ECF6",
            "gridcolor": "white",
            "gridwidth": 2,
            "linecolor": "white",
            "showbackground": true,
            "ticks": "",
            "zerolinecolor": "white"
           },
           "yaxis": {
            "backgroundcolor": "#E5ECF6",
            "gridcolor": "white",
            "gridwidth": 2,
            "linecolor": "white",
            "showbackground": true,
            "ticks": "",
            "zerolinecolor": "white"
           },
           "zaxis": {
            "backgroundcolor": "#E5ECF6",
            "gridcolor": "white",
            "gridwidth": 2,
            "linecolor": "white",
            "showbackground": true,
            "ticks": "",
            "zerolinecolor": "white"
           }
          },
          "shapedefaults": {
           "line": {
            "color": "#2a3f5f"
           }
          },
          "ternary": {
           "aaxis": {
            "gridcolor": "white",
            "linecolor": "white",
            "ticks": ""
           },
           "baxis": {
            "gridcolor": "white",
            "linecolor": "white",
            "ticks": ""
           },
           "bgcolor": "#E5ECF6",
           "caxis": {
            "gridcolor": "white",
            "linecolor": "white",
            "ticks": ""
           }
          },
          "title": {
           "x": 0.05
          },
          "xaxis": {
           "automargin": true,
           "gridcolor": "white",
           "linecolor": "white",
           "ticks": "",
           "title": {
            "standoff": 15
           },
           "zerolinecolor": "white",
           "zerolinewidth": 2
          },
          "yaxis": {
           "automargin": true,
           "gridcolor": "white",
           "linecolor": "white",
           "ticks": "",
           "title": {
            "standoff": 15
           },
           "zerolinecolor": "white",
           "zerolinewidth": 2
          }
         }
        },
        "title": {
         "text": "Valor de puntuaciones de las estadísticas de Giannis Antetokounmpo"
        }
       }
      }
     },
     "metadata": {},
     "output_type": "display_data"
    }
   ],
   "source": [
    "import plotly.graph_objects as go\n",
    "\n",
    "for cat in categorias:\n",
    "    max_value = top_jugadores[cat].max()\n",
    "    if max_value > 0:\n",
    "        top_jugadores[cat] = (top_jugadores[cat] / max_value) * 10\n",
    "\n",
    "# Crear un gráfico de radar para cada jugador\n",
    "for index, jugador in top_jugadores.iterrows():\n",
    "    fig = go.Figure()\n",
    "\n",
    "    fig.add_trace(go.Scatterpolar(\n",
    "        r=[jugador[cat] for cat in categorias] + [jugador[categorias[0]]],  # Repite el primer valor al final para cerrar el círculo\n",
    "        theta=categorias + [categorias[0]],\n",
    "        fill='toself',\n",
    "        name=f\"{jugador['Nombre']} {jugador['Apellido']}\"\n",
    "    ))\n",
    "\n",
    "    fig.update_layout(\n",
    "        polar=dict(\n",
    "            radialaxis=dict(\n",
    "                visible=True,\n",
    "                range=[0, 10]\n",
    "            )),\n",
    "        showlegend=False,\n",
    "     \n",
    "        title=f\"Valor de puntuaciones de las estadísticas de {jugador['Nombre']} {jugador['Apellido']}\"\n",
    "    )\n",
    "\n",
    "    fig.show()\n"
   ]
  },
  {
   "cell_type": "code",
   "execution_count": 46,
   "metadata": {},
   "outputs": [],
   "source": [
    "# Ahora quiero insertar los gráficos en una imagen para crear la ficha tipo FIFA para la NBA\n",
    "# He estado investigando a ver como hacerlo.\n",
    "# Primero hay que guardar los gráficos en png\n",
    "\n",
    "# Crear la carpeta si no existe\n",
    "carpeta = 'fichas_nba/'\n",
    "if not os.path.exists(carpeta):\n",
    "    os.makedirs(carpeta)\n",
    "\n",
    "# Obtener los 10 primeros jugadores por 'Puntuacion_Total'\n",
    "top_10_jugadores = df_puntuaciones_finales.sort_values(by='Puntuacion_Total', ascending=False).head(10)\n",
    "\n",
    "# Categorías para normalizar y graficar\n",
    "categorias = ['FG%', '3P%', 'FT%', 'OREB', 'DREB', 'AST', 'STL', 'BLK', 'TOV', 'PF']\n",
    "\n",
    "# Crear y guardar un gráfico de radar para cada jugador\n",
    "for index, jugador in top_10_jugadores.iterrows():\n",
    "    # Normalizar las estadísticas para el jugador actual\n",
    "    jugador_normalizado = jugador.copy()\n",
    "    for cat in categorias:\n",
    "        max_value = top_10_jugadores[cat].max()\n",
    "        if max_value > 0:\n",
    "            jugador_normalizado[cat] = (jugador[cat] / max_value) * 10\n",
    "\n",
    "    fig = go.Figure()\n",
    "\n",
    "    fig.add_trace(go.Scatterpolar(\n",
    "        r=[jugador_normalizado[cat] for cat in categorias] + [jugador_normalizado[categorias[0]]],\n",
    "        theta=categorias + [categorias[0]],\n",
    "        fill='toself'\n",
    "    ))\n",
    "\n",
    "    fig.update_layout(\n",
    "        polar=dict(\n",
    "            radialaxis=dict(visible=True, range=[0, 10])\n",
    "        ),\n",
    "        showlegend=False,\n",
    "        paper_bgcolor='rgba(0,0,0,0)',  # Fondo transparente\n",
    "        plot_bgcolor='rgba(0,0,0,0)'   # Fondo transparente\n",
    "    )\n",
    "\n",
    "    # Nombre del archivo\n",
    "    nombre_archivo = f\"{jugador['Nombre']}_{jugador['Apellido']}.png\"\n",
    "\n",
    "    # Guardar el gráfico como PNG con fondo transparente\n",
    "    fig.write_image(carpeta + nombre_archivo, width=430, height=600, scale=1, format='png')"
   ]
  },
  {
   "cell_type": "code",
   "execution_count": 85,
   "metadata": {},
   "outputs": [],
   "source": [
    "from PIL import Image, ImageDraw, ImageFont\n",
    "\n",
    "# Carpeta de las imágenes y logos\n",
    "carpeta_imagenes = 'fichas_nba/'\n",
    "carpeta_logos = 'logos_equipos/png/'\n",
    "ruta_fuente = \"c:/windows/fonts/arialn.ttf\"\n",
    "tamaño_fuente_grande = 60\n",
    "tamaño_fuente_pequeña = 36\n",
    "tamaño_fuente_mediana = 52\n",
    "tamaño_fuente_muy_grande = 90\n",
    "fuente_grande = ImageFont.truetype(ruta_fuente, tamaño_fuente_grande)\n",
    "fuente_pequeña = ImageFont.truetype(ruta_fuente, tamaño_fuente_pequeña)\n",
    "fuente_mediana = ImageFont.truetype(ruta_fuente, tamaño_fuente_mediana)\n",
    "fuente_muy_grande = ImageFont.truetype(ruta_fuente, tamaño_fuente_muy_grande)\n",
    "categorias_datos = {\n",
    "    'PTS_por_GP_normalizado': 'Puntos',\n",
    "    '3PM_por_GP_normalizado': 'Triples',\n",
    "    'FTM_por_GP_normalizado': 'Tiros Libres',\n",
    "    'OREB_por_GP_normalizado': 'Rebotes Of.',\n",
    "    'DREB_por_GP_normalizado': 'Rebotes Def.',\n",
    "    'AST_por_GP_normalizado': 'Asistencias',\n",
    "    'STL_por_GP_normalizado': 'Robos',\n",
    "    'BLK_por_GP_normalizado': 'Bloqueos',\n",
    "    'TOV_por_GP_normalizado': 'Pérdidas',\n",
    "    'PF_por_GP_normalizado': 'Faltas'\n",
    "}\n",
    "espaciado_vertical = 70  \n",
    "\n",
    "# Obtener los 10 primeros jugadores\n",
    "top_10_jugadores = df_puntuaciones_finales.sort_values(by='Puntuacion_Total', ascending=False).head(10)\n",
    "\n",
    "for index, jugador in top_10_jugadores.iterrows():\n",
    "    # Cargar la imagen de fondo\n",
    "    imagen_fondo = Image.open(carpeta_imagenes + 'tarjeta_base_nba.png')\n",
    "\n",
    "    # Cargar y colocar la gráfica de radar\n",
    "    nombre_grafica = f\"{jugador['Nombre']}_{jugador['Apellido']}.png\"\n",
    "    grafica_radar = Image.open(carpeta_imagenes + nombre_grafica)\n",
    "    grafica_radar = grafica_radar.resize((700, 977))\n",
    "    imagen_fondo.paste(grafica_radar, (450, 150), grafica_radar)\n",
    "\n",
    "    # Cargar y colocar el logo del equipo\n",
    "    id_equipo = jugador['ID Equipo']\n",
    "    logo_equipo = Image.open(carpeta_logos + f\"{id_equipo}.png\")\n",
    "    logo_equipo = logo_equipo.resize((300, 300))  # Redimensionar el logo a 200x200\n",
    "    imagen_fondo.paste(logo_equipo, (150, 300), logo_equipo)\n",
    "\n",
    "    # Instancia para dibujar en la imagen\n",
    "    draw = ImageDraw.Draw(imagen_fondo)\n",
    "\n",
    "    # Texto para Nombre y Apellido con fuente grande\n",
    "    texto_nombre = f\"{jugador['Nombre']}\"\n",
    "    texto_apellido = f\"{jugador['Apellido']}\"\n",
    "    draw.text((150, 600), texto_nombre, fill=(0, 0, 0), font=fuente_grande)\n",
    "    draw.text((150, 680), texto_apellido, fill=(0, 0, 0), font=fuente_grande)\n",
    "\n",
    "    # Texto para Edad/Dorsal con fuente pequeña\n",
    "    edad = int(jugador['Edad']) if pd.notna(jugador['Edad']) else '#'\n",
    "    dorsal = int(jugador['Dorsal']) if pd.notna(jugador['Dorsal']) else '#'\n",
    "    texto_edad_dorsal = f\"Edad: {edad} / Dorsal: {dorsal}\"\n",
    "    draw.text((150, 780), texto_edad_dorsal, fill=(0, 0, 0), font=fuente_pequeña)\n",
    "\n",
    "    # Texto para el País con fuente pequeña\n",
    "    texto_pais = f\"País: {jugador['País']}\"\n",
    "    draw.text((150, 840), texto_pais, fill=(0, 0, 0), font=fuente_pequeña)\n",
    "\n",
    "    for i, (clave, valor) in enumerate(categorias_datos.items()):\n",
    "        texto_dato = f\"{valor}: {jugador[clave]:.1f}\"  # Redondear a 1 decimal\n",
    "        x = 120 if i < 5 else 650  # Posición x para la primera o segunda columna\n",
    "        y = 1000 + (i % 5) * espaciado_vertical  # Posición y\n",
    "\n",
    "        draw.text((x, y), texto_dato, fill=(255, 255, 255), font=fuente_mediana)\n",
    "\n",
    "    # Añadir Puntuacion_Total con fuente grande\n",
    "    texto_puntuacion_total = f\"Puntos Totales: {jugador['Puntuacion_Total']:.1f}\"  # Redondear a 1 decimal\n",
    "    posicion_puntuacion_total = (150, 1400)  # Ajusta la posición según sea necesario\n",
    "    draw.text(posicion_puntuacion_total, texto_puntuacion_total, fill=(255, 255, 255), font=fuente_muy_grande)\n",
    "\n",
    "    # Añadir Valor_Monetario con fuente grande\n",
    "    texto_valor_monetario = f\"Precio del Jugador: ${jugador['Valor_Monetario']:.2f}M\"  # Formatear como precio en millones\n",
    "    posicion_valor_monetario = (150, 1550)  # Ajusta la posición según sea necesario\n",
    "    draw.text(posicion_valor_monetario, texto_valor_monetario, fill=(255, 255, 255), font=fuente_grande)\n",
    "\n",
    "    # Guardar la imagen final\n",
    "    nombre_tarjeta = f\"{jugador['Nombre']}_{jugador['Apellido']}_tarjeta.png\"\n",
    "    imagen_fondo.save(carpeta_imagenes + nombre_tarjeta)\n"
   ]
  }
 ],
 "metadata": {
  "kernelspec": {
   "display_name": "Python 3",
   "language": "python",
   "name": "python3"
  },
  "language_info": {
   "codemirror_mode": {
    "name": "ipython",
    "version": 3
   },
   "file_extension": ".py",
   "mimetype": "text/x-python",
   "name": "python",
   "nbconvert_exporter": "python",
   "pygments_lexer": "ipython3",
   "version": "3.11.7"
  }
 },
 "nbformat": 4,
 "nbformat_minor": 2
}

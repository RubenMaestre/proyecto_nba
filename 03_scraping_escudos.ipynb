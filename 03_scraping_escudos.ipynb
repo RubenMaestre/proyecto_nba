{
 "cells": [
  {
   "cell_type": "code",
   "execution_count": 1,
   "metadata": {},
   "outputs": [],
   "source": [
    "import numpy as np\n",
    "import pandas as pd\n",
    "\n",
    "import os\n",
    "import requests\n",
    "from  bs4 import BeautifulSoup\n",
    "\n",
    "from selenium import webdriver\n",
    "from selenium.webdriver.common.by import By\n",
    "\n",
    "from time import sleep\n",
    "import random"
   ]
  },
  {
   "cell_type": "code",
   "execution_count": 9,
   "metadata": {},
   "outputs": [],
   "source": [
    "browser = webdriver.Chrome()\n",
    "\n",
    "browser.get(\"https://nba.com/games\")\n",
    "browser.maximize_window()\n",
    "\n",
    "# cookies\n",
    "sleep(1)\n",
    "browser.find_element(by=By.ID, value=\"onetrust-accept-btn-handler\").click()\n",
    "\n",
    "# Ir a la página de equipos\n",
    "sleep(2)\n",
    "browser.find_element(by=By.XPATH, value='//*[@id=\"nav-ul\"]/li[7]/a').click()"
   ]
  },
  {
   "cell_type": "code",
   "execution_count": 14,
   "metadata": {},
   "outputs": [
    {
     "name": "stdout",
     "output_type": "stream",
     "text": [
      "['/stats/team/1610612738', '/stats/team/1610612751', '/stats/team/1610612752', '/stats/team/1610612755', '/stats/team/1610612761', '/stats/team/1610612741', '/stats/team/1610612739', '/stats/team/1610612765', '/stats/team/1610612754', '/stats/team/1610612749', '/stats/team/1610612737', '/stats/team/1610612766', '/stats/team/1610612748', '/stats/team/1610612753', '/stats/team/1610612764', '/stats/team/1610612743', '/stats/team/1610612750', '/stats/team/1610612760', '/stats/team/1610612757', '/stats/team/1610612762', '/stats/team/1610612744', '/stats/team/1610612746', '/stats/team/1610612747', '/stats/team/1610612756', '/stats/team/1610612758', '/stats/team/1610612742', '/stats/team/1610612745', '/stats/team/1610612763', '/stats/team/1610612740', '/stats/team/1610612759']\n"
     ]
    }
   ],
   "source": [
    "html_equipos = browser.page_source\n",
    "soup = BeautifulSoup(html_equipos, \"html.parser\")\n",
    "urls_equipos_nba = [a['href'] for a in soup.find_all('a', class_='Anchor_anchor__cSc3P TeamFigureLink_teamFigureLink__uqnNO') if '/stats/team/' in a['href']]\n",
    "print(urls_equipos_nba)"
   ]
  },
  {
   "cell_type": "code",
   "execution_count": 17,
   "metadata": {},
   "outputs": [],
   "source": [
    "import os\n",
    "import requests\n",
    "from bs4 import BeautifulSoup\n",
    "\n",
    "url_base = \"https://www.nba.com\"\n",
    "web_equipos_nba = [url_base + equipo_url for equipo_url in urls_equipos_nba]\n",
    "\n",
    "# Función para extraer la URL del logo de un equipo\n",
    "def extraer_logos_equipo_bs4(url):\n",
    "    try:\n",
    "        response = requests.get(url)\n",
    "        if response.status_code == 200:\n",
    "            soup = BeautifulSoup(response.text, 'html.parser')\n",
    "            logo_elemento = soup.select_one(\".TeamHeader_logoBlock__WjNZB img\")\n",
    "            id_equipo = url.split('/')[-1]\n",
    "            url_logo = logo_elemento['src'] if logo_elemento else None\n",
    "            return id_equipo, url_logo\n",
    "    except Exception as e:\n",
    "        print(f\"Error al procesar {url}: {e}\")\n",
    "    return None, None\n",
    "\n",
    "# Función para descargar el logo\n",
    "def descargar_logo(id_equipo, url, ruta_carpeta):\n",
    "    if url:\n",
    "        try:\n",
    "            response = requests.get(url)\n",
    "            if response.status_code == 200:\n",
    "                nombre_archivo = f\"{id_equipo}.svg\"  # Usar el ID del equipo para el nombre del archivo\n",
    "                ruta_completa = os.path.join(ruta_carpeta, nombre_archivo)\n",
    "\n",
    "                with open(ruta_completa, 'wb') as file:\n",
    "                    file.write(response.content)\n",
    "        except Exception as e:\n",
    "            print(f\"Error al descargar {url}: {e}\")\n",
    "\n",
    "# Carpeta para guardar los logos\n",
    "ruta_carpeta_logos = \"logos_equipos\"\n",
    "if not os.path.exists(ruta_carpeta_logos):\n",
    "    os.makedirs(ruta_carpeta_logos)\n",
    "\n",
    "# Proceso para descargar cada logo\n",
    "for url_equipo in web_equipos_nba:\n",
    "    id_equipo, url_logo = extraer_logos_equipo_bs4(url_equipo)\n",
    "    if url_logo:\n",
    "        descargar_logo(id_equipo, url_logo, ruta_carpeta_logos)"
   ]
  }
 ],
 "metadata": {
  "kernelspec": {
   "display_name": "Python 3",
   "language": "python",
   "name": "python3"
  },
  "language_info": {
   "codemirror_mode": {
    "name": "ipython",
    "version": 3
   },
   "file_extension": ".py",
   "mimetype": "text/x-python",
   "name": "python",
   "nbconvert_exporter": "python",
   "pygments_lexer": "ipython3",
   "version": "3.11.7"
  }
 },
 "nbformat": 4,
 "nbformat_minor": 2
}

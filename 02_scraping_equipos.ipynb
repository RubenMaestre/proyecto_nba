{
 "cells": [
  {
   "cell_type": "code",
   "execution_count": 1,
   "metadata": {},
   "outputs": [],
   "source": [
    "import numpy as np\n",
    "import pandas as pd\n",
    "import os\n",
    "\n",
    "import requests\n",
    "from  bs4 import BeautifulSoup\n",
    "\n",
    "from selenium import webdriver\n",
    "from selenium.webdriver.common.by import By\n",
    "\n",
    "from time import sleep\n",
    "import random"
   ]
  },
  {
   "cell_type": "code",
   "execution_count": 3,
   "metadata": {},
   "outputs": [],
   "source": [
    "browser = webdriver.Chrome()\n",
    "\n",
    "browser.get(\"https://nba.com/games\")\n",
    "browser.maximize_window()\n",
    "\n",
    "# cookies\n",
    "sleep(1)\n",
    "browser.find_element(by=By.ID, value=\"onetrust-accept-btn-handler\").click()\n",
    "\n",
    "# Ir a la página de equipos\n",
    "sleep(2)\n",
    "browser.find_element(by=By.XPATH, value='//*[@id=\"nav-ul\"]/li[7]/a').click()\n"
   ]
  },
  {
   "cell_type": "code",
   "execution_count": 4,
   "metadata": {},
   "outputs": [
    {
     "name": "stdout",
     "output_type": "stream",
     "text": [
      "['/stats/team/1610612738', '/stats/team/1610612751', '/stats/team/1610612752', '/stats/team/1610612755', '/stats/team/1610612761', '/stats/team/1610612741', '/stats/team/1610612739', '/stats/team/1610612765', '/stats/team/1610612754', '/stats/team/1610612749', '/stats/team/1610612737', '/stats/team/1610612766', '/stats/team/1610612748', '/stats/team/1610612753', '/stats/team/1610612764', '/stats/team/1610612743', '/stats/team/1610612750', '/stats/team/1610612760', '/stats/team/1610612757', '/stats/team/1610612762', '/stats/team/1610612744', '/stats/team/1610612746', '/stats/team/1610612747', '/stats/team/1610612756', '/stats/team/1610612758', '/stats/team/1610612742', '/stats/team/1610612745', '/stats/team/1610612763', '/stats/team/1610612740', '/stats/team/1610612759']\n"
     ]
    }
   ],
   "source": [
    "html_equipos = browser.page_source\n",
    "soup = BeautifulSoup(html_equipos, \"html.parser\")\n",
    "urls_equipos_nba = [a['href'] for a in soup.find_all('a', class_='Anchor_anchor__cSc3P TeamFigureLink_teamFigureLink__uqnNO') if '/stats/team/' in a['href']]\n",
    "print(urls_equipos_nba)"
   ]
  },
  {
   "cell_type": "code",
   "execution_count": 4,
   "metadata": {},
   "outputs": [],
   "source": [
    "# Para acceder a las estadísticas del primer equipo\n",
    "# NO EJECUTAR si queremos hacer directamente el bucle con todos\n",
    "sleep(0.3)\n",
    "\n",
    "browser.find_element(By.CSS_SELECTOR, '#__next > div.Layout_base__6IeUC.Layout_justNav__2H4H0 > div.Layout_mainContent__jXliI > div.MaxWidthContainer_mwc__ID5AG > section > div > div.TeamDivisions_wrapper__5_SVo > div:nth-child(1) > div.TeamDivisions_divisionTeams__N6vcW > div:nth-child(1) > div > div > a:nth-child(2)').click()\n"
   ]
  },
  {
   "cell_type": "code",
   "execution_count": 4,
   "metadata": {},
   "outputs": [
    {
     "name": "stdout",
     "output_type": "stream",
     "text": [
      "ID del equipo: 1610612738\n",
      "Nombre del equipo: BOSTON \n",
      "CELTICS\n",
      "Registro (Victorias-Derrotas): 28 - 7\n",
      "Puesto: 1st, División: Eastern\n",
      "PPG: 120.9, RPG: 47.8, APG: 26.0, OPPG: 110.1\n"
     ]
    }
   ],
   "source": [
    "# NO EJECUTAR si queremos hacer el bucle con todos, esto solo hace una extracción que me sirvió de guía\n",
    "# Igual que hicimos con la de jugador, sacamos la ID del equipo del html\n",
    "url_actual = browser.current_url\n",
    "id_equipo = url_actual.split('/')[-1]\n",
    "\n",
    "# Obtener el nombre del equipo\n",
    "nombre_equipo_elemento = browser.find_element(By.CSS_SELECTOR, \".TeamHeader_name__MmHlP\")\n",
    "nombre_equipo = nombre_equipo_elemento.text\n",
    "\n",
    "# Esto es para obtener la racha de victorias y también la posición en la división\n",
    "registro_elemento = browser.find_element(By.CSS_SELECTOR, \".TeamHeader_record__wzofp\")\n",
    "registro_datos = registro_elemento.text.split('|')\n",
    "victorias_derrotas = registro_datos[0].strip()\n",
    "puesto = registro_datos[1].split('in')[0].strip()\n",
    "division = registro_datos[1].split('in')[1].strip()\n",
    "\n",
    "# Esto es para obtener las estadísticas esas del cuadro superior derecho de la página de equipos\n",
    "ppg_elemento = browser.find_element(By.CSS_SELECTOR, \"div.TeamHeader_rank__lMnzF:nth-of-type(1) .TeamHeader_rankValue__ZGDCq\")\n",
    "ppg = ppg_elemento.text\n",
    "\n",
    "rpg_elemento = browser.find_element(By.CSS_SELECTOR, \"div.TeamHeader_rank__lMnzF:nth-of-type(2) .TeamHeader_rankValue__ZGDCq\")\n",
    "rpg = rpg_elemento.text\n",
    "\n",
    "apg_elemento = browser.find_element(By.CSS_SELECTOR, \"div.TeamHeader_rank__lMnzF:nth-of-type(3) .TeamHeader_rankValue__ZGDCq\")\n",
    "apg = apg_elemento.text\n",
    "\n",
    "oppg_elemento = browser.find_element(By.CSS_SELECTOR, \"div.TeamHeader_rank__lMnzF:nth-of-type(4) .TeamHeader_rankValue__ZGDCq\")\n",
    "oppg = oppg_elemento.text\n",
    "\n",
    "\n",
    "print(f\"ID del equipo: {id_equipo}\")\n",
    "print(f\"Nombre del equipo: {nombre_equipo}\")\n",
    "print(f\"Registro (Victorias-Derrotas): {victorias_derrotas}\")\n",
    "print(f\"Puesto: {puesto}, División: {division}\")\n",
    "print(f\"PPG: {ppg}, RPG: {rpg}, APG: {apg}, OPPG: {oppg}\")\n"
   ]
  },
  {
   "cell_type": "code",
   "execution_count": 5,
   "metadata": {},
   "outputs": [],
   "source": [
    "def extraer_informacion_equipo_bs4(url):\n",
    "    try:        \n",
    "        response = requests.get(url)\n",
    "        soup = BeautifulSoup(response.text, 'html.parser')\n",
    "        \n",
    "        id_equipo = url.split('/')[-1]\n",
    "        \n",
    "        nombre_equipo_elemento = soup.select_one(\".TeamHeader_name__MmHlP\")\n",
    "        nombre_equipo = nombre_equipo_elemento.text if nombre_equipo_elemento else \"none\"\n",
    "\n",
    "        registro_elemento = soup.select_one(\".TeamHeader_record__wzofp\")\n",
    "        if registro_elemento:\n",
    "            registro_datos = registro_elemento.text.split('|')\n",
    "            victorias_derrotas = registro_datos[0].strip()\n",
    "            puesto = registro_datos[1].split('in')[0].strip()\n",
    "            division = registro_datos[1].split('in')[1].strip()\n",
    "        else:\n",
    "            victorias_derrotas = puesto = division = \"none\"\n",
    "\n",
    "        ppg = rpg = apg = oppg = \"none\"\n",
    "        estadisticas_elementos = soup.select(\"div.TeamHeader_rank__lMnzF .TeamHeader_rankValue__ZGDCq\")\n",
    "        if estadisticas_elementos:\n",
    "            ppg = estadisticas_elementos[0].text if len(estadisticas_elementos) > 0 else \"none\"\n",
    "            rpg = estadisticas_elementos[1].text if len(estadisticas_elementos) > 1 else \"none\"\n",
    "            apg = estadisticas_elementos[2].text if len(estadisticas_elementos) > 2 else \"none\"\n",
    "            oppg = estadisticas_elementos[3].text if len(estadisticas_elementos) > 3 else \"none\"\n",
    "\n",
    "        return {\n",
    "            \"id_equipo\": id_equipo,\n",
    "            \"nombre_equipo\": nombre_equipo,\n",
    "            \"victorias_derrotas\": victorias_derrotas,\n",
    "            \"puesto\": puesto,\n",
    "            \"division\": division,\n",
    "            \"ppg\": ppg,\n",
    "            \"rpg\": rpg,\n",
    "            \"apg\": apg,\n",
    "            \"oppg\": oppg,\n",
    "        }\n",
    "    except Exception as e:\n",
    "        print(f\"Error al acceder: {e}\")\n",
    "        return None\n"
   ]
  },
  {
   "cell_type": "code",
   "execution_count": 6,
   "metadata": {},
   "outputs": [],
   "source": [
    "id_equipo, nombre_equipo, victorias_derrotas, puesto, division, ppg, rpg, apg, oppg = [], [], [], [], [], [], [], [], []\n"
   ]
  },
  {
   "cell_type": "code",
   "execution_count": 7,
   "metadata": {},
   "outputs": [
    {
     "name": "stdout",
     "output_type": "stream",
     "text": [
      "Accediendo a: https://www.nba.com/stats/team/1610612738\n",
      "Accediendo a: https://www.nba.com/stats/team/1610612751\n",
      "Accediendo a: https://www.nba.com/stats/team/1610612752\n",
      "Accediendo a: https://www.nba.com/stats/team/1610612755\n",
      "Accediendo a: https://www.nba.com/stats/team/1610612761\n",
      "Accediendo a: https://www.nba.com/stats/team/1610612741\n",
      "Accediendo a: https://www.nba.com/stats/team/1610612739\n",
      "Accediendo a: https://www.nba.com/stats/team/1610612765\n",
      "Accediendo a: https://www.nba.com/stats/team/1610612754\n",
      "Accediendo a: https://www.nba.com/stats/team/1610612749\n",
      "Accediendo a: https://www.nba.com/stats/team/1610612737\n",
      "Accediendo a: https://www.nba.com/stats/team/1610612766\n",
      "Accediendo a: https://www.nba.com/stats/team/1610612748\n",
      "Accediendo a: https://www.nba.com/stats/team/1610612753\n",
      "Accediendo a: https://www.nba.com/stats/team/1610612764\n",
      "Accediendo a: https://www.nba.com/stats/team/1610612743\n",
      "Accediendo a: https://www.nba.com/stats/team/1610612750\n",
      "Accediendo a: https://www.nba.com/stats/team/1610612760\n",
      "Accediendo a: https://www.nba.com/stats/team/1610612757\n",
      "Accediendo a: https://www.nba.com/stats/team/1610612762\n",
      "Accediendo a: https://www.nba.com/stats/team/1610612744\n",
      "Accediendo a: https://www.nba.com/stats/team/1610612746\n",
      "Accediendo a: https://www.nba.com/stats/team/1610612747\n",
      "Accediendo a: https://www.nba.com/stats/team/1610612756\n",
      "Accediendo a: https://www.nba.com/stats/team/1610612758\n",
      "Accediendo a: https://www.nba.com/stats/team/1610612742\n",
      "Accediendo a: https://www.nba.com/stats/team/1610612745\n",
      "Accediendo a: https://www.nba.com/stats/team/1610612763\n",
      "Accediendo a: https://www.nba.com/stats/team/1610612740\n",
      "Accediendo a: https://www.nba.com/stats/team/1610612759\n"
     ]
    }
   ],
   "source": [
    "url_base = \"https://www.nba.com\"\n",
    "web_equipos_nba = [url_base + div.select(\"a\")[1][\"href\"] for div in soup.find_all(\"div\", class_=\"TeamFigure_tfLinks__gwWFj\")]\n",
    "\n",
    "for url in web_equipos_nba:\n",
    "    print(f\"Accediendo a: {url}\")\n",
    "    info_equipo = extraer_informacion_equipo_bs4(url)\n",
    "    if info_equipo:\n",
    "        id_equipo.append(info_equipo['id_equipo'])\n",
    "        nombre_equipo.append(info_equipo['nombre_equipo'])\n",
    "        victorias_derrotas.append(info_equipo['victorias_derrotas'])\n",
    "        puesto.append(info_equipo['puesto'])\n",
    "        division.append(info_equipo['division'])\n",
    "        ppg.append(info_equipo['ppg'])\n",
    "        rpg.append(info_equipo['rpg'])\n",
    "        apg.append(info_equipo['apg'])\n",
    "        oppg.append(info_equipo['oppg'])\n",
    "\n",
    "    \n",
    "    sleep(random.uniform(2, 4))\n"
   ]
  },
  {
   "cell_type": "code",
   "execution_count": 8,
   "metadata": {},
   "outputs": [],
   "source": [
    "df_equipos = pd.DataFrame({\n",
    "    'ID Equipo': id_equipo,\n",
    "    'Nombre Equipo': nombre_equipo,\n",
    "    'Victorias-Derrotas': victorias_derrotas,\n",
    "    'Puesto': puesto,\n",
    "    'División': division,\n",
    "    'PPG': ppg,\n",
    "    'RPG': rpg,\n",
    "    'APG': apg,\n",
    "    'OPPG': oppg\n",
    "})\n"
   ]
  },
  {
   "cell_type": "code",
   "execution_count": 9,
   "metadata": {},
   "outputs": [
    {
     "name": "stdout",
     "output_type": "stream",
     "text": [
      "     ID Equipo           Nombre Equipo Victorias-Derrotas Puesto División  \\\n",
      "0   1610612738          Boston Celtics             28 - 8    1st  Eastern   \n",
      "1   1610612751           Brooklyn Nets            16 - 21   10th  Eastern   \n",
      "2   1610612752         New York Knicks            21 - 15    8th  Eastern   \n",
      "3   1610612755      Philadelphia 76ers            23 - 12    3rd  Eastern   \n",
      "4   1610612761         Toronto Raptors            15 - 21   11th  Eastern   \n",
      "5   1610612741           Chicago Bulls            17 - 21    9th  Eastern   \n",
      "6   1610612739     Cleveland Cavaliers            21 - 15    7th  Eastern   \n",
      "7   1610612765         Detroit Pistons             3 - 33   15th  Eastern   \n",
      "8   1610612754          Indiana Pacers            21 - 15    6th  Eastern   \n",
      "9   1610612749         Milwaukee Bucks            25 - 12    2nd  Eastern   \n",
      "10  1610612737           Atlanta Hawks            14 - 21   12th  Eastern   \n",
      "11  1610612766       Charlotte Hornets             8 - 26   13th  Eastern   \n",
      "12  1610612748              Miami Heat            21 - 15    4th  Eastern   \n",
      "13  1610612753           Orlando Magic            21 - 15    5th  Eastern   \n",
      "14  1610612764      Washington Wizards             6 - 30   14th  Eastern   \n",
      "15  1610612743          Denver Nuggets            26 - 12    3rd  Western   \n",
      "16  1610612750  Minnesota Timberwolves            25 - 10    1st  Western   \n",
      "17  1610612760   Oklahoma City Thunder            24 - 11    2nd  Western   \n",
      "18  1610612757  Portland Trail Blazers            10 - 25   14th  Western   \n",
      "19  1610612762               Utah Jazz            18 - 20   11th  Western   \n",
      "20  1610612744   Golden State Warriors            17 - 19   12th  Western   \n",
      "21  1610612746             LA Clippers            23 - 13    4th  Western   \n",
      "22  1610612747      Los Angeles Lakers            18 - 19   10th  Western   \n",
      "23  1610612756            Phoenix Suns            19 - 18    8th  Western   \n",
      "24  1610612758        Sacramento Kings            21 - 14    5th  Western   \n",
      "25  1610612742        Dallas Mavericks            22 - 15    6th  Western   \n",
      "26  1610612745         Houston Rockets            18 - 17    9th  Western   \n",
      "27  1610612763       Memphis Grizzlies            13 - 23   13th  Western   \n",
      "28  1610612740    New Orleans Pelicans            22 - 15    7th  Western   \n",
      "29  1610612759       San Antonio Spurs             5 - 30   15th  Western   \n",
      "\n",
      "      PPG   RPG   APG   OPPG  \n",
      "0   121.2  47.6  26.0  110.7  \n",
      "1   114.9  46.8  26.3  116.6  \n",
      "2   115.8  45.4  24.0  112.4  \n",
      "3   119.5  43.7  25.5  111.3  \n",
      "4   115.0  44.5  29.5  115.7  \n",
      "5   109.4  43.4  23.6  111.5  \n",
      "6   113.3  44.8  26.7  111.5  \n",
      "7   111.5  43.3  25.8  122.6  \n",
      "8   127.0  40.3  30.9  124.4  \n",
      "9   124.1  44.1  26.4  119.9  \n",
      "10  122.2  44.7  25.8  123.7  \n",
      "11  109.5  41.2  25.2  120.0  \n",
      "12  112.7  41.5  26.2  111.6  \n",
      "13  113.9  43.8  24.9  111.9  \n",
      "14  115.5  39.3  27.6  126.3  \n",
      "15  116.1  44.0  29.7  110.7  \n",
      "16  112.9  44.0  25.7  107.7  \n",
      "17  122.2  40.7  26.9  114.6  \n",
      "18  109.0  41.6  22.6  116.3  \n",
      "19  115.1  46.4  27.7  118.7  \n",
      "20  117.1  46.4  28.1  116.9  \n",
      "21  117.2  43.6  25.5  111.5  \n",
      "22  113.5  43.4  27.3  114.6  \n",
      "23  115.2  43.2  26.0  114.5  \n",
      "24  117.7  43.4  28.8  118.0  \n",
      "25  119.0  42.4  25.4  116.8  \n",
      "26  112.5  44.9  24.9  110.2  \n",
      "27  107.8  42.4  24.4  113.5  \n",
      "28  115.8  44.5  26.5  111.6  \n",
      "29  111.3  42.9  28.9  122.7  \n"
     ]
    }
   ],
   "source": [
    "print(df_equipos)"
   ]
  },
  {
   "cell_type": "code",
   "execution_count": 9,
   "metadata": {},
   "outputs": [],
   "source": [
    "df_equipos.to_excel(\"excels/equipos_nba.xlsx\", index=False, engine='openpyxl')\n"
   ]
  },
  {
   "cell_type": "code",
   "execution_count": 10,
   "metadata": {},
   "outputs": [
    {
     "name": "stdout",
     "output_type": "stream",
     "text": [
      "Archivo guardado como: c:\\Users\\34670\\Desktop\\python\\Hack a boss\\proyecto_1\\excels\\equipos_nba_1.xlsx\n"
     ]
    }
   ],
   "source": [
    "# Hacemos el guardado que estamos ya realizando para si existse el archivo, que no se sobreescriba\n",
    "\n",
    "def guardar_excel_con_numeracion(df, nombre_base):\n",
    "    directorio = os.path.join(os.getcwd(), \"excels\")\n",
    "\n",
    "    if not os.path.exists(directorio):\n",
    "        os.makedirs(directorio)\n",
    "\n",
    "    ruta_base = os.path.join(directorio, nombre_base)\n",
    "\n",
    "    contador = 0\n",
    "    ruta_final = f\"{ruta_base}.xlsx\"\n",
    "\n",
    "    while os.path.exists(ruta_final):\n",
    "        contador += 1\n",
    "        ruta_final = f\"{ruta_base}_{contador}.xlsx\"\n",
    "\n",
    "    df.to_excel(ruta_final, index=False, engine='openpyxl')\n",
    "    print(f\"Archivo guardado como: {ruta_final}\")\n",
    "\n",
    "\n",
    "guardar_excel_con_numeracion(df_equipos, \"equipos_nba\")"
   ]
  }
 ],
 "metadata": {
  "kernelspec": {
   "display_name": "Python 3",
   "language": "python",
   "name": "python3"
  },
  "language_info": {
   "codemirror_mode": {
    "name": "ipython",
    "version": 3
   },
   "file_extension": ".py",
   "mimetype": "text/x-python",
   "name": "python",
   "nbconvert_exporter": "python",
   "pygments_lexer": "ipython3",
   "version": "3.11.7"
  }
 },
 "nbformat": 4,
 "nbformat_minor": 2
}

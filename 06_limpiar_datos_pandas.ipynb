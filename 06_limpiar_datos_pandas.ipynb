{
 "cells": [
  {
   "cell_type": "code",
   "execution_count": 32,
   "metadata": {},
   "outputs": [],
   "source": [
    "# Primero ejecutar el archivo 05_limpiar_datos.pandas.ipynb antes que este. Es importante!!!\n",
    "\n",
    "import pandas as pd\n",
    "import os\n",
    "import re\n"
   ]
  },
  {
   "cell_type": "code",
   "execution_count": 33,
   "metadata": {},
   "outputs": [],
   "source": [
    "archivo_1 = 'excels/jugadores_nba.xlsx'\n",
    "archivo_2 = 'excels/actualizados/estadistica_jugadores_nba_actualizado.xlsx'\n",
    "\n",
    "df1 = pd.read_excel(archivo_1)\n",
    "df2 = pd.read_excel(archivo_2)"
   ]
  },
  {
   "cell_type": "code",
   "execution_count": 34,
   "metadata": {},
   "outputs": [
    {
     "name": "stdout",
     "output_type": "stream",
     "text": [
      "Index(['id_jugador', 'Nombre', 'Apellido', 'Equipo', 'Dorsal', 'Posición',\n",
      "       'PPG', 'RPG', 'APG', 'PIE', 'Altura', 'Peso', 'País', 'Último Equipo',\n",
      "       'Edad', 'Cumpleaños', 'Draft', 'Experiencia'],\n",
      "      dtype='object')\n",
      "Index(['id_jugador', 'Player', 'ID Equipo', 'GP', 'MIN', 'PTS', 'FGM', 'FGA',\n",
      "       'FG%', '3PM', '3PA', '3P%', 'FTM', 'FTA', 'FT%', 'OREB', 'DREB', 'REB',\n",
      "       'AST', 'STL', 'BLK', 'TOV', 'PF', 'EFF', 'AST/TOV', 'STL/TOV'],\n",
      "      dtype='object')\n"
     ]
    }
   ],
   "source": [
    "print(df1.columns)\n",
    "print(df2.columns)"
   ]
  },
  {
   "cell_type": "code",
   "execution_count": 35,
   "metadata": {},
   "outputs": [],
   "source": [
    "df1.drop('Equipo', axis=1, inplace=True)\n",
    "df2.drop(['Player'], axis=1, inplace=True)"
   ]
  },
  {
   "cell_type": "code",
   "execution_count": 36,
   "metadata": {},
   "outputs": [
    {
     "name": "stdout",
     "output_type": "stream",
     "text": [
      "0       5\n",
      "1       4\n",
      "2      13\n",
      "3      30\n",
      "4       7\n",
      "       ..\n",
      "538    21\n",
      "539    11\n",
      "540    77\n",
      "541    40\n",
      "542    40\n",
      "Name: Dorsal, Length: 543, dtype: object\n"
     ]
    }
   ],
   "source": [
    "# Vamos a limpiar la columna dorsal. Vamos a quitar las almohadillas y si hay algún valor que no sea numérico o está en blanco ponerle none\n",
    "\n",
    "df1['Dorsal'] = df1['Dorsal'].str.replace('#', '', regex=True)\n",
    "df1['Dorsal'] = df1['Dorsal'].apply(lambda x: None if not str(x).isdigit() else x)\n",
    "print(df1['Dorsal'])"
   ]
  },
  {
   "cell_type": "code",
   "execution_count": 37,
   "metadata": {},
   "outputs": [
    {
     "name": "stdout",
     "output_type": "stream",
     "text": [
      "Conteo de Posiciones:\n",
      " Posición\n",
      "Guard             207\n",
      "Forward           160\n",
      "Center             44\n",
      "Guard-Forward      39\n",
      "Forward-Center     32\n",
      "Center-Forward     21\n",
      "Forward-Guard      16\n",
      "none                3\n",
      "Name: count, dtype: int64\n",
      "\n",
      "Cantidad de valores en blanco: 21\n"
     ]
    }
   ],
   "source": [
    "conteo_posiciones = df1['Posición'].value_counts()\n",
    "valores_blancos = df1['Posición'].isna().sum()\n",
    "print(\"Conteo de Posiciones:\\n\", conteo_posiciones)\n",
    "print(\"\\nCantidad de valores en blanco:\", valores_blancos)"
   ]
  },
  {
   "cell_type": "code",
   "execution_count": 38,
   "metadata": {},
   "outputs": [
    {
     "name": "stdout",
     "output_type": "stream",
     "text": [
      "0          Alero\n",
      "1          Pivot\n",
      "2      Ala-Pivot\n",
      "3           Base\n",
      "4      Ala-Pivot\n",
      "         ...    \n",
      "538        Alero\n",
      "539         Base\n",
      "540        Pivot\n",
      "541    Ala-Pivot\n",
      "542        Pivot\n",
      "Name: Posición, Length: 543, dtype: object\n"
     ]
    }
   ],
   "source": [
    "# Voy a cambiar el nombre de las posiciones a español\n",
    "# Primero creamos un diccionario\n",
    "posiciones_español = {\n",
    "    'Guard': 'Base',\n",
    "    'Forward': 'Alero',\n",
    "    'Center': 'Pivot',\n",
    "    'Forward-Center': 'Ala-Pivot',\n",
    "    'Guard-Forward': 'Base - Alero',\n",
    "    'Forward-Guard': 'Alero-Escolta',\n",
    "    'Center-Forward': 'Ala-Pivot'\n",
    "}\n",
    "\n",
    "df1['Posición'] = df1['Posición'].replace(posiciones_español)\n",
    "\n",
    "# Y ahora en los sitios que esté blanco o no haya datos se le pone none en texto\n",
    "df1['Posición'] = df1['Posición'].apply(lambda x: 'none' if x not in posiciones_español.values() else x)\n",
    "print(df1['Posición'])"
   ]
  },
  {
   "cell_type": "code",
   "execution_count": 39,
   "metadata": {},
   "outputs": [
    {
     "name": "stdout",
     "output_type": "stream",
     "text": [
      "0       6.9\n",
      "1       8.6\n",
      "2      22.0\n",
      "3       6.2\n",
      "4      10.4\n",
      "       ... \n",
      "538     2.9\n",
      "539    27.8\n",
      "540     3.8\n",
      "541     2.0\n",
      "542    12.6\n",
      "Name: PPG, Length: 543, dtype: object\n",
      "0       5.1\n",
      "1      11.5\n",
      "2      10.3\n",
      "3       2.5\n",
      "4       5.5\n",
      "       ... \n",
      "538     1.3\n",
      "539     3.1\n",
      "540     4.5\n",
      "541     2.8\n",
      "542     9.7\n",
      "Name: RPG, Length: 543, dtype: object\n",
      "0       1.5\n",
      "1       2.3\n",
      "2       3.9\n",
      "3       1.0\n",
      "4       1.7\n",
      "       ... \n",
      "538     1.2\n",
      "539    11.0\n",
      "540     0.6\n",
      "541     1.1\n",
      "542     1.3\n",
      "Name: APG, Length: 543, dtype: object\n",
      "0       9.6\n",
      "1      11.2\n",
      "2      15.8\n",
      "3       5.5\n",
      "4      10.7\n",
      "       ... \n",
      "538    10.2\n",
      "539    14.2\n",
      "540     8.2\n",
      "541     6.1\n",
      "542    12.4\n",
      "Name: PIE, Length: 543, dtype: object\n"
     ]
    }
   ],
   "source": [
    "# Ahora vamos a trabajar a la vez con las cuatro columnas numéricas de datos del dataframe\n",
    "\n",
    "columnas = ['PPG', 'RPG', 'APG', 'PIE']\n",
    "\n",
    "# La idea es que si no tiene número que me ponga none en texto\n",
    "def valores_numero(valor):\n",
    "    try:\n",
    "        return pd.to_numeric(valor)\n",
    "    except ValueError:\n",
    "        return 'none'\n",
    "\n",
    "for columna in columnas:\n",
    "    df1[columna] = df1[columna].apply(valores_numero)\n",
    "\n",
    "print(df1['PPG'])\n",
    "print(df1['RPG'])\n",
    "print(df1['APG'])\n",
    "print(df1['PIE'])"
   ]
  },
  {
   "cell_type": "code",
   "execution_count": 40,
   "metadata": {},
   "outputs": [
    {
     "name": "stdout",
     "output_type": "stream",
     "text": [
      "0      2.03\n",
      "1      2.11\n",
      "2      2.06\n",
      "3      1.96\n",
      "4      2.13\n",
      "       ... \n",
      "538    2.03\n",
      "539    1.85\n",
      "540    2.11\n",
      "541    2.11\n",
      "542    2.13\n",
      "Name: Altura (metros), Length: 543, dtype: object\n"
     ]
    }
   ],
   "source": [
    "# Vamos ahora a trabjar con la columna altura. Lo primero es cambiarle el nombre para que ponga Altura (metros) para saber ese dato\n",
    "# Y luego la idea es dejar solo el valor en metros del dato. Utilizando expresiones regulares\n",
    "\n",
    "df1.rename(columns={'Altura': 'Altura (metros)'}, inplace=True)\n",
    "\n",
    "def extraer_altura_metros(valor):\n",
    "    if pd.isna(valor):\n",
    "        return None\n",
    "    try:\n",
    "        # Utilizamos una expresión regular\n",
    "        altura_metros = pd.Series(valor).str.extract(r'\\((\\d+\\.\\d+)m\\)')[0]\n",
    "        return altura_metros\n",
    "    except Exception:\n",
    "        return 'none'\n",
    "\n",
    "\n",
    "df1['Altura (metros)'] = df1['Altura (metros)'].apply(extraer_altura_metros)\n",
    "print(df1['Altura (metros)'])\n"
   ]
  },
  {
   "cell_type": "code",
   "execution_count": 41,
   "metadata": {},
   "outputs": [
    {
     "name": "stdout",
     "output_type": "stream",
     "text": [
      "0      110\n",
      "1      120\n",
      "2      116\n",
      "3       98\n",
      "4       98\n",
      "      ... \n",
      "538    102\n",
      "539     74\n",
      "540    125\n",
      "541    109\n",
      "542    109\n",
      "Name: Peso (kg), Length: 543, dtype: object\n"
     ]
    }
   ],
   "source": [
    "import pandas as pd\n",
    "\n",
    "# Cambiar el nombre de la columna 'Peso' a 'Peso (kg)'\n",
    "df1.rename(columns={'Peso': 'Peso (kg)'}, inplace=True)\n",
    "\n",
    "# Función para extraer el valor en kilogramos\n",
    "def extraer_peso_kg(valor):\n",
    "    if pd.isna(valor):\n",
    "        return 'none'\n",
    "    try:\n",
    "        # Extraer la parte en kilogramos utilizando una expresión regular\n",
    "        peso_kg = pd.Series(valor).str.extract(r'\\((\\d+)kg\\)')[0]\n",
    "        return peso_kg\n",
    "    except Exception:\n",
    "        return 'none'\n",
    "\n",
    "# Aplicar la función a la columna 'Peso (kg)'\n",
    "df1['Peso (kg)'] = df1['Peso (kg)'].apply(extraer_peso_kg)\n",
    "\n",
    "print(df1['Peso (kg)'])"
   ]
  },
  {
   "cell_type": "code",
   "execution_count": 42,
   "metadata": {},
   "outputs": [
    {
     "name": "stdout",
     "output_type": "stream",
     "text": [
      "0      24\n",
      "1      30\n",
      "2      26\n",
      "3      23\n",
      "4      23\n",
      "       ..\n",
      "538    35\n",
      "539    25\n",
      "540    25\n",
      "541    31\n",
      "542    26\n",
      "Name: Edad, Length: 543, dtype: object\n",
      "0       3\n",
      "1      10\n",
      "2       6\n",
      "3       1\n",
      "4       2\n",
      "       ..\n",
      "538    16\n",
      "539     5\n",
      "540     2\n",
      "541    10\n",
      "542     7\n",
      "Name: Experiencia, Length: 543, dtype: object\n"
     ]
    }
   ],
   "source": [
    "# Función para limpiar la columna Edad\n",
    "def limpiar_edad(valor):\n",
    "    if pd.isna(valor) or not str(valor).endswith(\"years\"):\n",
    "        return None\n",
    "    return str(valor).replace(\"years\", \"\").strip()\n",
    "\n",
    "# Aplicar la función a la columna Edad\n",
    "df1['Edad'] = df1['Edad'].apply(limpiar_edad)\n",
    "\n",
    "# Función para limpiar la columna Experiencia\n",
    "def limpiar_experiencia(valor):\n",
    "    if pd.isna(valor):\n",
    "        return None\n",
    "    if valor == \"Rookie\":\n",
    "        return valor\n",
    "    if str(valor).lower().endswith(\"years\") or str(valor).lower().endswith(\"year\"):\n",
    "        return str(valor).replace(\"Years\", \"\").replace(\"years\", \"\").replace(\"Year\", \"\").replace(\"year\", \"\").strip()\n",
    "    return None\n",
    "\n",
    "# Aplicar la función a la columna Experiencia\n",
    "df1['Experiencia'] = df1['Experiencia'].apply(limpiar_experiencia)\n",
    "\n",
    "print(df1['Edad'])\n",
    "print(df1['Experiencia'])"
   ]
  },
  {
   "cell_type": "code",
   "execution_count": 43,
   "metadata": {},
   "outputs": [],
   "source": [
    "# Ahora vamos con la columna cumpleaños, para ponerla en formato fecha más reconocible en España\n",
    "\n",
    "df1['Cumpleaños'] = pd.to_datetime(df1['Cumpleaños'], errors='coerce').dt.strftime('%d-%m-%Y')\n",
    "\n",
    "df1['Cumpleaños'] = df1['Cumpleaños'].where(df1['Cumpleaños'].notna(), None)\n"
   ]
  },
  {
   "cell_type": "code",
   "execution_count": 44,
   "metadata": {},
   "outputs": [
    {
     "name": "stdout",
     "output_type": "stream",
     "text": [
      "0      19-09-1999\n",
      "1      20-07-1993\n",
      "2      18-07-1997\n",
      "3      20-04-2000\n",
      "4      10-01-2001\n",
      "          ...    \n",
      "538    21-06-1988\n",
      "539    19-09-1998\n",
      "540    19-06-1998\n",
      "541    05-10-1992\n",
      "542    18-03-1997\n",
      "Name: Cumpleaños, Length: 543, dtype: object\n"
     ]
    }
   ],
   "source": [
    "print(df1['Cumpleaños'])"
   ]
  },
  {
   "cell_type": "code",
   "execution_count": 48,
   "metadata": {},
   "outputs": [],
   "source": [
    "\n",
    "# Fusionar df2 con df1 usando 'id_jugador' como clave, preservando todos los registros de df2\n",
    "df_jugadores = pd.merge(df2, df1, on='id_jugador', how='left', suffixes=('', '_df1'))\n",
    "\n",
    "# Lista del orden deseado de columnas\n",
    "orden_columnas = ['id_jugador', 'Nombre', 'Apellido', 'ID Equipo'] + \\\n",
    "                 [col for col in df1.columns if col not in ['id_jugador', 'Nombre', 'Apellido']] + \\\n",
    "                 [col for col in df2.columns if col not in ['id_jugador', 'ID Equipo']]\n",
    "\n",
    "# Reordenar las columnas en df_jugadores\n",
    "df_jugadores = df_jugadores[orden_columnas]\n",
    "\n",
    "# Rellenar con None los valores NaN resultantes de la fusión\n",
    "df_jugadores.fillna('None', inplace=True)\n",
    "\n"
   ]
  },
  {
   "cell_type": "code",
   "execution_count": 50,
   "metadata": {},
   "outputs": [],
   "source": [
    "ruta_archivo = 'excels/actualizados/jugadores_completos.xlsx'\n",
    "\n",
    "df_jugadores.to_excel(ruta_archivo, index=False)\n"
   ]
  }
 ],
 "metadata": {
  "kernelspec": {
   "display_name": "Python 3",
   "language": "python",
   "name": "python3"
  },
  "language_info": {
   "codemirror_mode": {
    "name": "ipython",
    "version": 3
   },
   "file_extension": ".py",
   "mimetype": "text/x-python",
   "name": "python",
   "nbconvert_exporter": "python",
   "pygments_lexer": "ipython3",
   "version": "3.11.7"
  }
 },
 "nbformat": 4,
 "nbformat_minor": 2
}

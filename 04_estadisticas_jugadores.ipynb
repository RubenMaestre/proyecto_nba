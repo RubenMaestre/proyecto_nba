{
 "cells": [
  {
   "cell_type": "code",
   "execution_count": 1,
   "metadata": {},
   "outputs": [],
   "source": [
    "import numpy as np\n",
    "import pandas as pd\n",
    "\n",
    "import requests\n",
    "import re\n",
    "import os\n",
    "from  bs4 import BeautifulSoup\n",
    "\n",
    "from selenium import webdriver\n",
    "from selenium.webdriver.common.by import By\n",
    "\n",
    "from time import sleep\n",
    "import random"
   ]
  },
  {
   "cell_type": "code",
   "execution_count": 2,
   "metadata": {},
   "outputs": [],
   "source": [
    "browser = webdriver.Chrome()\n",
    "\n",
    "browser.get(\"https://nba.com/games\")\n",
    "browser.maximize_window()\n",
    "\n",
    "# cookies\n",
    "sleep(1)\n",
    "browser.find_element(by=By.ID, value=\"onetrust-accept-btn-handler\").click()\n",
    "\n",
    "# Ir a la página de estadísticas\n",
    "sleep(3.2)\n",
    "browser.find_element(by=By.XPATH, value='//*[@id=\"nav-ul\"]/li[5]/a').click()\n",
    "\n",
    "# Ir a la opción de SEASON LEADERS\n",
    "sleep(1.4)\n",
    "browser.find_element(by=By.XPATH, value='//*[@id=\"__next\"]/div[2]/div[2]/div[3]/div/div[1]/section[1]/div/div[2]/button[2]').click()\n"
   ]
  },
  {
   "cell_type": "code",
   "execution_count": 3,
   "metadata": {},
   "outputs": [
    {
     "name": "stdout",
     "output_type": "stream",
     "text": [
      "['/stats/leaders/', '/stats/leaders/?StatCategory=REB', '/stats/leaders/?StatCategory=AST', '/stats/leaders/?StatCategory=BLK', '/stats/leaders/?StatCategory=STL', '/stats/leaders/?StatCategory=FG_PCT&PerMode=Totals', '/stats/leaders/?StatCategory=FG3M&PerMode=Totals', '/stats/leaders/?StatCategory=FG3_PCT&PerMode=Totals', '/stats/players/traditional/?sort=NBA_FANTASY_PTS&dir=-1', '/stats/players/traditional/?PerMode=Totals&sort=PTS&dir=-1', '/stats/players/traditional/?sort=REB&dir=-1&PerMode=Totals', '/stats/players/traditional/?sort=AST&dir=-1&PerMode=Totals', '/stats/players/traditional/?sort=BLK&dir=-1&PerMode=Totals', '/stats/players/traditional/?sort=STL&dir=-1&PerMode=Totals', '/stats/players/traditional/?sort=FG3M&dir=-1&PerMode=Totals', '/stats/players/boxscores-traditional/?sort=FG3M&dir=1', '/stats/players/boxscores-traditional/?sort=PTS&dir=1', '/stats/teams/scoring/?sort=PCT_PTS_3PT&dir=-1', '/stats/players/catch-shoot/?sort=CATCH_SHOOT_FGA&dir=1']\n"
     ]
    }
   ],
   "source": [
    "html_season_leaders = browser.page_source\n",
    "soup = BeautifulSoup(html_season_leaders, \"html.parser\")\n",
    "url_estadisticas_lideres = [a['href'] for a in soup.find_all('a', class_='Anchor_anchor__cSc3P LeaderBoardCard_lbcLink__GZTl1 Link_styled__okbXW')]\n",
    "print(url_estadisticas_lideres)"
   ]
  },
  {
   "cell_type": "code",
   "execution_count": 4,
   "metadata": {},
   "outputs": [
    {
     "name": "stdout",
     "output_type": "stream",
     "text": [
      "https://www.nba.com/stats/leaders/\n",
      "https://www.nba.com/stats/leaders/?StatCategory=REB\n",
      "https://www.nba.com/stats/leaders/?StatCategory=AST\n",
      "https://www.nba.com/stats/leaders/?StatCategory=BLK\n",
      "https://www.nba.com/stats/leaders/?StatCategory=STL\n",
      "https://www.nba.com/stats/leaders/?StatCategory=FG_PCT&PerMode=Totals\n",
      "https://www.nba.com/stats/leaders/?StatCategory=FG3M&PerMode=Totals\n",
      "https://www.nba.com/stats/leaders/?StatCategory=FG3_PCT&PerMode=Totals\n",
      "https://www.nba.com/stats/players/traditional/?sort=NBA_FANTASY_PTS&dir=-1\n",
      "https://www.nba.com/stats/players/traditional/?PerMode=Totals&sort=PTS&dir=-1\n",
      "https://www.nba.com/stats/players/traditional/?sort=REB&dir=-1&PerMode=Totals\n",
      "https://www.nba.com/stats/players/traditional/?sort=AST&dir=-1&PerMode=Totals\n",
      "https://www.nba.com/stats/players/traditional/?sort=BLK&dir=-1&PerMode=Totals\n",
      "https://www.nba.com/stats/players/traditional/?sort=STL&dir=-1&PerMode=Totals\n",
      "https://www.nba.com/stats/players/traditional/?sort=FG3M&dir=-1&PerMode=Totals\n",
      "https://www.nba.com/stats/players/boxscores-traditional/?sort=FG3M&dir=1\n",
      "https://www.nba.com/stats/players/boxscores-traditional/?sort=PTS&dir=1\n",
      "https://www.nba.com/stats/teams/scoring/?sort=PCT_PTS_3PT&dir=-1\n",
      "https://www.nba.com/stats/players/catch-shoot/?sort=CATCH_SHOOT_FGA&dir=1\n"
     ]
    }
   ],
   "source": [
    "dominio_base = \"https://www.nba.com\"\n",
    "urls_estadisticas_lideres = [dominio_base + url for url in url_estadisticas_lideres]\n",
    "\n",
    "# Imprimir los enlaces absolutos para verificar\n",
    "for url in urls_estadisticas_lideres:\n",
    "    print(url)"
   ]
  },
  {
   "cell_type": "code",
   "execution_count": 5,
   "metadata": {},
   "outputs": [],
   "source": [
    "# Vamos a hacer primero el ejemplo para sacar los datos del primer enlace, y luego y ya montamos el bucle\n",
    "\n",
    "primer_url = urls_estadisticas_lideres[0]\n",
    "browser.get(primer_url)\n",
    "\n",
    "# Vamos a darle que nos de el total de todas las estadísticas\n",
    "sleep(3)\n",
    "browser.find_element(by=By.XPATH, value='//*[@id=\"__next\"]/div[2]/div[2]/div[3]/section[1]/div/div/div[3]/label/div/select/option[1]').click()\n",
    "\n",
    "# Vamos a decirle que nos ponga a todos los jugadores dándole al ALL\n",
    "sleep(3.3)\n",
    "browser.find_element(by=By.XPATH, value='//*[@id=\"__next\"]/div[2]/div[2]/div[3]/section[2]/div/div[2]/div[2]/div[1]/div[3]/div/label/div/select/option[1]').click()\n",
    "                                         "
   ]
  },
  {
   "cell_type": "code",
   "execution_count": 6,
   "metadata": {},
   "outputs": [
    {
     "name": "stdout",
     "output_type": "stream",
     "text": [
      "['#', 'Player', 'TEAM', 'GP', 'MIN', 'PTS', 'FGM', 'FGA', 'FG%', '3PM', '3PA', '3P%', 'FTM', 'FTA', 'FT%', 'OREB', 'DREB', 'REB', 'AST', 'STL', 'BLK', 'TOV', 'PF', 'EFF', 'AST/TOV', 'STL/TOV']\n"
     ]
    }
   ],
   "source": [
    "# Una vez estamos ya dentro de la página, vamos a extraer el nombre de las columnas y creamos listas\n",
    "# Lo vamos a hacer en una función para poder ejecutarla posteriormente en otras tablas similares\n",
    "\n",
    "html_tabla = browser.page_source\n",
    "\n",
    "def nombre_columnas_estadisticas(html_tabla):\n",
    "    soup = BeautifulSoup(html_tabla, \"html.parser\")\n",
    "\n",
    "    encabezados_tabla = soup.find('tr', class_='Crom_headers__mzI_m')\n",
    "\n",
    "    if encabezados_tabla:\n",
    "        nombres_columnas = [th.get_text(strip=True) for th in encabezados_tabla.find_all('th')]\n",
    "        return nombres_columnas\n",
    "    else:\n",
    "         return []\n",
    "    \n",
    "nombres_de_columnas = nombre_columnas_estadisticas(html_tabla)\n",
    "print(nombres_de_columnas)"
   ]
  },
  {
   "cell_type": "code",
   "execution_count": 7,
   "metadata": {},
   "outputs": [
    {
     "name": "stdout",
     "output_type": "stream",
     "text": [
      "26\n"
     ]
    }
   ],
   "source": [
    "print(len(nombres_de_columnas))"
   ]
  },
  {
   "cell_type": "code",
   "execution_count": 8,
   "metadata": {},
   "outputs": [],
   "source": [
    "# Ahora vamos a crear una función para descargar los datos de cada jugador. \n",
    "# En la primera columna, en vez de descargar la posición vamos a descargar la ID del jugador que sale del enlace para identificarlo\n",
    "# Lo mismo haremos con el equipo, haremos la ID del equipo\n",
    "\n",
    "html_fila = browser.page_source\n",
    "\n",
    "def extraer_datos_jugadores(html_fila):\n",
    "    soup = BeautifulSoup(html_fila, \"html.parser\")\n",
    "    columnas = soup.find_all('td')\n",
    "\n",
    "    enlace_jugador = columnas[1].find('a', href=True)\n",
    "    id_jugador = re.search(r'/stats/player/(\\d+)/', enlace_jugador['href']).group(1) if enlace_jugador else None\n",
    "\n",
    "    nombre_jugador = columnas[1].get_text(strip=True) if columnas[1] else None\n",
    "\n",
    "\n",
    "    enlace_equipo = columnas[2].find('a', href=True)\n",
    "    id_equipo = re.search(r'/stats/team/(\\d+)/', enlace_equipo['href']).group(1) if enlace_equipo else None\n",
    "\n",
    "    otros_datos = [columna.get_text(strip=True) for columna in columnas[3:]]\n",
    "\n",
    "    datos = [id_jugador, nombre_jugador, id_equipo] + otros_datos\n",
    "\n",
    "    return datos\n",
    "\n",
    "\n"
   ]
  },
  {
   "cell_type": "code",
   "execution_count": 9,
   "metadata": {},
   "outputs": [
    {
     "name": "stdout",
     "output_type": "stream",
     "text": [
      "           #                   Player        TEAM  GP   MIN   PTS  FGM  FGA  \\\n",
      "0     203507    Giannis Antetokounmpo  1610612749  36  1268  1132  420  692   \n",
      "1    1629029              Luka Doncic  1610612742  33  1215  1111  379  779   \n",
      "2    1628983  Shai Gilgeous-Alexander  1610612760  34  1184  1071  384  699   \n",
      "3     203999             Nikola Jokic  1610612743  37  1235   942  366  643   \n",
      "4    1628973            Jalen Brunson  1610612752  36  1291   937  331  701   \n",
      "..       ...                      ...         ...  ..   ...   ...  ...  ...   \n",
      "516  1641931            Onuralp Bitim  1610612741   1     3     0    0    0   \n",
      "517  1641741         Ricky Council IV  1610612755   1     6     0    0    1   \n",
      "518  1631199           Ron Harper Jr.  1610612761   1     4     0    0    0   \n",
      "519  1627853         Ryan Arcidiacono  1610612752  13    26     0    0    4   \n",
      "520  1630586             Usman Garuba  1610612744   2     6     0    0    1   \n",
      "\n",
      "      FG%  3PM  ... DREB  REB  AST STL BLK  TOV   PF   EFF AST/TOV STL/TOV  \n",
      "0    60.7   15  ...  318  414  211  47  42  130  106  1311    1.62    0.36  \n",
      "1    48.7  133  ...  246  270  305  44  19  131   57  1156    2.33    0.34  \n",
      "2    54.9   41  ...  176  204  216  83  25   66   87  1185    3.27    1.26  \n",
      "3    56.9   39  ...  332  437  342  44  35  101   97  1384    3.39    0.44  \n",
      "4    47.2  103  ...  117  140  229  36   7   85   77   859    2.69    0.42  \n",
      "..    ...  ...  ...  ...  ...  ...  ..  ..  ...  ...   ...     ...     ...  \n",
      "516   0.0    0  ...    0    0    0   0   0    0    0     0    0.00    0.00  \n",
      "517   0.0    0  ...    0    0    0   0   0    0    0    -1    0.00    0.00  \n",
      "518   0.0    0  ...    0    0    1   0   0    0    2     1    0.00    0.00  \n",
      "519   0.0    0  ...    6    6    3   1   0    0    2     6    0.00    0.00  \n",
      "520   0.0    0  ...    0    0    1   1   0    0    1     1    0.00    0.00  \n",
      "\n",
      "[521 rows x 26 columns]\n"
     ]
    }
   ],
   "source": [
    "nombres_columnas = nombre_columnas_estadisticas(html_tabla)\n",
    "\n",
    "datos_jugadores = []\n",
    "\n",
    "soup = BeautifulSoup(html_tabla, \"html.parser\")\n",
    "filas = soup.find_all('tr')[1:]  # Esto es para excluir la fila de encabezado\n",
    "\n",
    "for fila in filas:\n",
    "    datos_fila = str(fila)  \n",
    "    datos_jugador = extraer_datos_jugadores(datos_fila)\n",
    "    datos_jugadores.append(datos_jugador)\n",
    "\n",
    "\n",
    "df_estadisticas_puntos_jugadores = pd.DataFrame(datos_jugadores, columns=nombres_columnas)\n",
    "\n",
    "\n",
    "print(df_estadisticas_puntos_jugadores)\n"
   ]
  },
  {
   "cell_type": "code",
   "execution_count": 11,
   "metadata": {},
   "outputs": [
    {
     "name": "stdout",
     "output_type": "stream",
     "text": [
      "Archivo guardado como: c:\\Users\\34670\\Desktop\\python\\Hack a boss\\proyecto_1\\excels\\estadisticas_puntos_jugadores_2.xlsx\n"
     ]
    }
   ],
   "source": [
    "# Hacemos el guardado que estamos ya realizando para si existse el archivo, que no se sobreescriba\n",
    "\n",
    "def guardar_excel_con_numeracion(df, nombre_base):\n",
    "    directorio = os.path.join(os.getcwd(), \"excels\")\n",
    "\n",
    "    if not os.path.exists(directorio):\n",
    "        os.makedirs(directorio)\n",
    "\n",
    "    ruta_base = os.path.join(directorio, nombre_base)\n",
    "\n",
    "    contador = 0\n",
    "    ruta_final = f\"{ruta_base}.xlsx\"\n",
    "\n",
    "    while os.path.exists(ruta_final):\n",
    "        contador += 1\n",
    "        ruta_final = f\"{ruta_base}_{contador}.xlsx\"\n",
    "\n",
    "    df.to_excel(ruta_final, index=False, engine='openpyxl')\n",
    "    print(f\"Archivo guardado como: {ruta_final}\")\n",
    "\n",
    "guardar_excel_con_numeracion(df_estadisticas_puntos_jugadores, \"estadisticas_puntos_jugadores\")\n"
   ]
  }
 ],
 "metadata": {
  "kernelspec": {
   "display_name": "Python 3",
   "language": "python",
   "name": "python3"
  },
  "language_info": {
   "codemirror_mode": {
    "name": "ipython",
    "version": 3
   },
   "file_extension": ".py",
   "mimetype": "text/x-python",
   "name": "python",
   "nbconvert_exporter": "python",
   "pygments_lexer": "ipython3",
   "version": "3.11.7"
  }
 },
 "nbformat": 4,
 "nbformat_minor": 2
}
